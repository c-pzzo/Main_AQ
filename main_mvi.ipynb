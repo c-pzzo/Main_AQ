{
 "cells": [
  {
   "cell_type": "markdown",
   "id": "1be5512e",
   "metadata": {},
   "source": [
    "# About\n",
    "Functions required for MVI Processes"
   ]
  },
  {
   "cell_type": "markdown",
   "id": "44ce6757",
   "metadata": {},
   "source": [
    "# Libraries"
   ]
  },
  {
   "cell_type": "code",
   "execution_count": 1,
   "id": "fafeb31d",
   "metadata": {},
   "outputs": [],
   "source": [
    "from numpy import nan\n",
    "from fancyimpute import IterativeImputer"
   ]
  },
  {
   "cell_type": "markdown",
   "id": "a19df51b",
   "metadata": {},
   "source": [
    "# UDF"
   ]
  },
  {
   "cell_type": "code",
   "execution_count": 2,
   "id": "ee3fb511",
   "metadata": {},
   "outputs": [],
   "source": [
    "def raw_table_list():\n",
    "    table_list = aux_qdata(\"show tables like 'sima%'\")\n",
    "    table_list = [table_list[i][0] for i in range(len(table_list))]\n",
    "    table_list = [s for s in table_list if not(s.startswith('sima_station'))]\n",
    "    \n",
    "    return table_list"
   ]
  },
  {
   "cell_type": "code",
   "execution_count": 3,
   "id": "78989917",
   "metadata": {},
   "outputs": [],
   "source": [
    "def reindex_aq_table(data):\n",
    "    \"\"\"\n",
    "    * Cast data table to a float32 type\n",
    "    * Reindex with datetime.\n",
    "    \"\"\"\n",
    "    \n",
    "    dt_index = data.columns.get_loc(\"datetime\")\n",
    "    dt_col = data.iloc[:,dt_index]\n",
    "\n",
    "    tmp_df = data.iloc[:,1:].astype('float32')\n",
    "\n",
    "    return tmp_df.set_index(dt_col)"
   ]
  },
  {
   "cell_type": "code",
   "execution_count": 1,
   "id": "a8b7de3c",
   "metadata": {},
   "outputs": [],
   "source": [
    "def create_external_objects(mvi_method_name, directory):\n",
    "    !touch {mvi_method_name + \"_sql_tables_structure.sql\"}; touch {mvi_method_name + \"_upload_csv.sh\"}; touch {mvi_method_name + \"_views_creation.sql\"}\n",
    "    main_sql_stuff = data_restructuring(directory)\n",
    "    \n",
    "    files_list = list(iglob('./{}/*.csv'.format(directory)))\n",
    "    files_list_trim = [x[len(directory)+3:-4] for x in files_list]\n",
    "    \n",
    "    # SQL structures\n",
    "    main_sql_stuff.sql_tables_structures(files_list_trim, directory, mvi_method_name)\n",
    "    \n",
    "    # Shell commands\n",
    "    main_sql_stuff.upload_csv_script(files_list_trim, directory, mvi_method_name)\n",
    "    \n",
    "    # Views\n",
    "    main_sql_stuff.creating_views(files_list_trim, mvi_method_name, mvi_method_name)"
   ]
  },
  {
   "cell_type": "code",
   "execution_count": 5,
   "id": "12e7cf72",
   "metadata": {},
   "outputs": [],
   "source": [
    "def empty_df_measurement_station():\n",
    "    cols = [\"SE\", \"NE\", \"CE\", \"NO\", \"SO\", \"NO2\", \"NTE\", \"NE2\", \"SE2\", \"SO2\", \"SE3\", \"SUR\", \"NTE2\", \"NE3\"]\n",
    "    \n",
    "    return DataFrame(columns = cols)"
   ]
  },
  {
   "cell_type": "code",
   "execution_count": 6,
   "id": "529f0a07",
   "metadata": {},
   "outputs": [],
   "source": [
    "def count_nulls(data, table_name):\n",
    "    tmp_data = data.replace(0, nan)\n",
    "    nulls_count = dict(tmp_data.isnull().sum())\n",
    "    nulls_count = DataFrame([nulls_count.values()], columns = nulls_count.keys(), index = [table_name])\n",
    "    \n",
    "    return nulls_count"
   ]
  },
  {
   "cell_type": "code",
   "execution_count": 7,
   "id": "ee6c7c59",
   "metadata": {},
   "outputs": [],
   "source": [
    "def mvi_mean(data):\n",
    "    tmp_data = data.replace(0, nan)\n",
    "    \n",
    "    mvi_substitution = tmp_data.mean(axis = 0)\n",
    "\n",
    "    for i in tmp_data.columns:\n",
    "        tmp_data[i] = tmp_data[i].fillna(mvi_substitution[i])\n",
    "\n",
    "    return tmp_data    "
   ]
  },
  {
   "cell_type": "code",
   "execution_count": 8,
   "id": "9d91d227",
   "metadata": {},
   "outputs": [],
   "source": [
    "def mvi_spatialAvg(data):\n",
    "    tmp_data = data.replace(0, nan)\n",
    "\n",
    "    mvi_substitution = tmp_data.mean(axis = 1)\n",
    "\n",
    "    for i in tmp_data.index:\n",
    "        tmp_data.loc[i] = tmp_data.loc[i].fillna(mvi_substitution[i])\n",
    "        \n",
    "    return tmp_data"
   ]
  },
  {
   "cell_type": "code",
   "execution_count": 9,
   "id": "dd209114",
   "metadata": {},
   "outputs": [],
   "source": [
    "def mvi_MICE(data):\n",
    "    \"\"\"\n",
    "    UDF specific to process a monitoring station's data through a \n",
    "    Missing value imputation algorithm. Especifically using a \n",
    "    Multivariate imputation by chained equations (MICE). \n",
    "    MICE is implemented using the FancyInput library.\n",
    "    \"\"\"\n",
    "    # General parameters\n",
    "    max_iter_vals = 100\n",
    "    \n",
    "    df_cols = data.columns\n",
    "    df_indx = data.index\n",
    "\n",
    "    # Creating dictionary with real min values greater than zero\n",
    "    global_min = dict()\n",
    "\n",
    "    for c in data.columns:\n",
    "        try: \n",
    "            mval = min(data[c][data[c] > 0]) \n",
    "        except:\n",
    "            mval = 0\n",
    "        global_min[c] = mval\n",
    "    \n",
    "    # Reformat table\n",
    "    data = data.replace(0, nan)\n",
    "\n",
    "    # Initializing the MICE class\n",
    "    mice_imputer = IterativeImputer(max_iter = max_iter_vals)\n",
    "\n",
    "    # imputing the missing value with mice imputer\n",
    "    data_mice = DataFrame(mice_imputer.fit_transform(data))\n",
    "    data_mice.columns = df_cols\n",
    "    data_mice.index = df_indx\n",
    "    \n",
    "    # Replace negative values with minimum values per column\n",
    "    for c in global_min.keys():\n",
    "        data_mice.loc[data_mice[c] < 0, c] = global_min[c]\n",
    "    \n",
    "    return data_mice"
   ]
  },
  {
   "cell_type": "code",
   "execution_count": 10,
   "id": "ce4b2ce2",
   "metadata": {},
   "outputs": [
    {
     "name": "stdout",
     "output_type": "stream",
     "text": [
      "Functions for MVI Processes are ready!\n"
     ]
    }
   ],
   "source": [
    "print(\"Functions for MVI Processes are ready!\")"
   ]
  }
 ],
 "metadata": {
  "kernelspec": {
   "display_name": "Python 3 (ipykernel)",
   "language": "python",
   "name": "python3"
  },
  "language_info": {
   "codemirror_mode": {
    "name": "ipython",
    "version": 3
   },
   "file_extension": ".py",
   "mimetype": "text/x-python",
   "name": "python",
   "nbconvert_exporter": "python",
   "pygments_lexer": "ipython3",
   "version": "3.7.13"
  }
 },
 "nbformat": 4,
 "nbformat_minor": 5
}
