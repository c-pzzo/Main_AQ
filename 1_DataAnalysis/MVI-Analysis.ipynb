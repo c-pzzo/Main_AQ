{
 "cells": [
  {
   "cell_type": "markdown",
   "id": "9385c466",
   "metadata": {},
   "source": [
    "# About\n",
    "This notebook contains the experiment that aims to recognize the best MVI strategy to imput missing data. The criteria to decide the best method would be after doing a residual analysis between imputed data and real measurements. In this experiment, univariate and multivariate methods are used, where the variables are each monitoring station and the returning objects can be also multivariate. But for practicity, only the imputed time series data from the Obispado (CE) monitoring station for the PM2.5 measurement will be analyzed. This station has the most real data, so it would provide more information for the residual analysis. "
   ]
  },
  {
   "cell_type": "markdown",
   "id": "e6e0ee95",
   "metadata": {},
   "source": [
    "# Libraries"
   ]
  },
  {
   "cell_type": "code",
   "execution_count": 1,
   "id": "1a7d7b7a",
   "metadata": {},
   "outputs": [
    {
     "name": "stdout",
     "output_type": "stream",
     "text": [
      "Connection with MySQL database is ready!\n"
     ]
    }
   ],
   "source": [
    "%run \"../main_global.ipynb\""
   ]
  },
  {
   "cell_type": "code",
   "execution_count": 2,
   "id": "27b955a4",
   "metadata": {},
   "outputs": [
    {
     "name": "stdout",
     "output_type": "stream",
     "text": [
      "Functions for MVI Processes are ready!\n"
     ]
    }
   ],
   "source": [
    "%run \"../main_mvi.ipynb\""
   ]
  },
  {
   "cell_type": "code",
   "execution_count": 3,
   "id": "ed4d2768",
   "metadata": {},
   "outputs": [],
   "source": [
    "import matplotlib.pyplot as plt\n",
    "from numpy import arange, argwhere, isnan, array, sum, abs"
   ]
  },
  {
   "cell_type": "code",
   "execution_count": 4,
   "id": "55b0ff14",
   "metadata": {},
   "outputs": [],
   "source": [
    "import random\n",
    "random.seed(101)"
   ]
  },
  {
   "cell_type": "markdown",
   "id": "4b9f850b",
   "metadata": {},
   "source": [
    "# User-Defined Functions"
   ]
  },
  {
   "cell_type": "code",
   "execution_count": 5,
   "id": "6a8475fe",
   "metadata": {},
   "outputs": [],
   "source": [
    "def stations_empty_values(raw_list = raw_table_list()):\n",
    "    results = empty_df_measurement_station()\n",
    "    \n",
    "    for table_name in raw_list:\n",
    "        \n",
    "        # Read raw dataset\n",
    "        sqlq = \"SELECT * FROM {}\".format(table_name)\n",
    "        \n",
    "        # Reformat table\n",
    "        raw_df = reindex_aq_table(qdata(sqlq))\n",
    "        \n",
    "        # Count NaN values \n",
    "        nulls_count = count_nulls(raw_df, table_name)        \n",
    "        results = results.append(nulls_count)\n",
    "        \n",
    "    return results"
   ]
  },
  {
   "cell_type": "code",
   "execution_count": 6,
   "id": "7e8552d8",
   "metadata": {},
   "outputs": [],
   "source": [
    "def plot_heatmap(data):\n",
    "    \n",
    "    column_labels = list(data.index)\n",
    "    row_labels = list(data.columns)\n",
    "\n",
    "    fig, ax = plt.subplots()\n",
    "    heatmap = ax.pcolor(results.astype(\"float32\"), cmap = 'coolwarm')\n",
    "\n",
    "    ax.set_xticks(arange(len(row_labels)))\n",
    "    ax.set_yticks(arange(len(column_labels)))\n",
    "\n",
    "    # Want a more natural, table-like display\n",
    "    #ax.invert_yaxis()\n",
    "    ax.xaxis.tick_top()\n",
    "\n",
    "    ax.set_xticklabels(row_labels, rotation=90)\n",
    "    ax.set_yticklabels(column_labels)\n",
    "\n",
    "    #ax.set_horizontalalignment('center')\n",
    "\n",
    "    plt.show()    "
   ]
  },
  {
   "cell_type": "code",
   "execution_count": 7,
   "id": "53c7c2fa",
   "metadata": {},
   "outputs": [],
   "source": [
    "def index_to_drop(drop_pctge = .1, station = \"ce\"):\n",
    "    station = station.lower()\n",
    "    sqlq = \"Select datetime, {} from sima_pm25\".format(station)\n",
    "    data = qdata(sqlq).set_index(\"datetime\")\n",
    "    \n",
    "    \n",
    "    missing_vals = data[data[station] == 0]\n",
    "    available_vals = data[data[station] != 0]\n",
    "    print(\"Original percentage of missing data: {:.2f}%\".format(len(missing_vals) / len(data) * 100))\n",
    "    \n",
    "    index_drop = random.sample(list(available_vals.index), int(len(available_vals) * drop_pctge))    \n",
    "    original = data.loc[index_drop].copy()\n",
    "    data.loc[index_drop] = 0\n",
    "    \n",
    "    missing_vals = data[data[station] == 0]\n",
    "    print(\"New Percentage of missing data: {:.2f}%\".format(len(missing_vals) / len(data) * 100))\n",
    "    \n",
    "    return original, index_drop"
   ]
  },
  {
   "cell_type": "code",
   "execution_count": 8,
   "id": "de52f7ae",
   "metadata": {},
   "outputs": [],
   "source": [
    "def exp_mvi_mean(sqlq, index_drop):\n",
    "    \n",
    "    mvi_data = qdata(sqlq).set_index(\"datetime\")\n",
    "    mvi_data.loc[index_drop] = 0\n",
    "    \n",
    "    out = mvi_mean(mvi_data)\n",
    "    \n",
    "    return out"
   ]
  },
  {
   "cell_type": "code",
   "execution_count": 9,
   "id": "8239015d",
   "metadata": {},
   "outputs": [],
   "source": [
    "def exp_mvi_sa(sqlq, index_drop, station = \"CE\"):    \n",
    "    mvi_data = qdata(sqlq).set_index(\"datetime\")\n",
    "    mvi_data[station].loc[index_drop] = 0\n",
    "    \n",
    "    out = mvi_spatialAvg(mvi_data)\n",
    "    \n",
    "    return out"
   ]
  },
  {
   "cell_type": "code",
   "execution_count": 10,
   "id": "1cd55acd",
   "metadata": {},
   "outputs": [],
   "source": [
    "def exp_mvi_mice(sqlq, index_drop, station = \"CE\"):    \n",
    "    mvi_data = qdata(sqlq).set_index(\"datetime\")\n",
    "    mvi_data[station].loc[index_drop] = 0\n",
    "    \n",
    "    out = mvi_MICE(mvi_data)\n",
    "    \n",
    "    return out"
   ]
  },
  {
   "cell_type": "markdown",
   "id": "08289e05",
   "metadata": {},
   "source": [
    "# Main"
   ]
  },
  {
   "cell_type": "markdown",
   "id": "5abd9bab",
   "metadata": {},
   "source": [
    "## > Overview of missing data from every monitoring station\n",
    "The raw datasets generated by the monitoring stations in the MMA define missing values with a numerical zero. \n",
    "A heatmap was created to understand beforehand the distribution of zeros throughout every dataset in the database.\n",
    "\n",
    "The resulting heatmap is shown in Figure \\figure{}. "
   ]
  },
  {
   "cell_type": "code",
   "execution_count": 11,
   "id": "28552b65",
   "metadata": {},
   "outputs": [
    {
     "data": {
      "image/png": "[encoded data removed]",
      "text/plain": [
       "<Figure size 640x480 with 1 Axes>"
      ]
     },
     "metadata": {},
     "output_type": "display_data"
    }
   ],
   "source": [
    "results = stations_empty_values()\n",
    "plot_heatmap(results)"
   ]
  },
  {
   "cell_type": "markdown",
   "id": "c93b2da4",
   "metadata": {},
   "source": [
    "This heatmap takes as input a dataframe object with the counts of zero values for each dataset (rows) and each monitoring station (columns). It uses a colormap from blue to red where the higher intensity of red means the more missing values in that location. Since all the features in each dataset are all numerical values, it is confusing it these zero-values are actual measurements. For the case of the `sima_rainf` dataset, this would mean that throughout those years there has been a noticeable lack of rainfall that has left the capital with scarce levels of water. In a report by [Mongabay](https://news.mongabay.com/2022/08/climate-change-hits-northern-mexico-as-officials-look-to-solve-water-crisis/), they argue that this lack of rainfall along with increasing heat, and the unsustainable deforestation and degradation of natural forests, led to the critical water shortage problem that was lived in the most part of the year 2022.\n",
    "\n",
    "When rain happens, it considerably affects the levels of air pollution in the MMA. But the detailed information about how much rain has fallen is not needed to make air pollution forecasting. It would be useful if the time series data for the precipitation was continuous, but with a share of 98.86\\% of missing data, it would mainly not be worth keeping in the analysis. Considering all this, the information from the `sima_rainf` dataset will be removed from the analysis for the forecasting models. \n",
    "\n",
    "Another insight from this heatmap is that the information from the NE3 monitoring station is very empty. This could mean that this monitoring station has not been functional for the majority of the time period than the other stations. Also, it was not identified from the official catalogue provided by SIMA. So, the information from this station is dropped.\n",
    "\n",
    "A third insight is that we can recognize that the Obispado (CE) monitoring station has the least missing values time series data (i.e. it is the most complete). It is seconded by the San Pedro (SO2) monitoring station. Their respective values as percentages are respectively 20.68% and 25.08% of missing data. Or in other words, they are 79.32% and 74.92% complete.\n",
    "\n",
    "Overall, and with a couple of exceptions, the meteorological measurements (i.e. prs, rainf, rh, tout, wdr, wsr) taken by the monitoring stations has less missing values compared to the atmospheric gases (i.e. co, no, no2, nox, o3). "
   ]
  },
  {
   "cell_type": "code",
   "execution_count": 12,
   "id": "65b2fa0c",
   "metadata": {},
   "outputs": [
    {
     "name": "stdout",
     "output_type": "stream",
     "text": [
      "Percentage of missing values for `rainf` throughout all monitoring stations 98.22%\n"
     ]
    }
   ],
   "source": [
    "# Original table size for every monitoring station\n",
    "sqlq = \"SELECT COUNT(*) AS num_rows FROM {};\".format(raw_table_list()[0])\n",
    "table_size = aux_qdata(sqlq)[0][0]\n",
    "\n",
    "print(\"Percentage of missing values for `rainf` throughout all monitoring stations {:.2f}%\".format(results.loc[\"sima_rainf\"].sum() / (table_size * 14) * 100))"
   ]
  },
  {
   "cell_type": "code",
   "execution_count": 13,
   "id": "d7e136df",
   "metadata": {},
   "outputs": [
    {
     "name": "stdout",
     "output_type": "stream",
     "text": [
      "Percentage of missing values for CE data: 20.68%\n"
     ]
    }
   ],
   "source": [
    "print(\"Percentage of missing values for CE data: {:.2f}%\".format(results[\"CE\"].sum()  / (table_size * len(results.index)) * 100) )"
   ]
  },
  {
   "cell_type": "code",
   "execution_count": 14,
   "id": "4b5843d6",
   "metadata": {},
   "outputs": [
    {
     "name": "stdout",
     "output_type": "stream",
     "text": [
      "Percentage of missing values for SO2 data: 25.08%\n"
     ]
    }
   ],
   "source": [
    "print(\"Percentage of missing values for SO2 data: {:.2f}%\".format(results[\"SO2\"].sum()  / (table_size * len(results.index)) * 100) )"
   ]
  },
  {
   "cell_type": "markdown",
   "id": "72643ae9",
   "metadata": {},
   "source": [
    "# MVI"
   ]
  },
  {
   "cell_type": "markdown",
   "id": "f4d8ef6a",
   "metadata": {},
   "source": [
    "## <*> Dates to take for residual analysis\n",
    "To make a residual analysis, it is necessary to compare the imputed value with a real value. For the already missing data, it is not possible to compare it with its real value because that information doesn't exist. To do this, an additional number of observations will be dropped from the original raw dataset, then allow the MVI mehthod to impute the missing values including those newly created, and finally do the comparison. this will be done from the data measured by the Obispado (CE) monitoring station. This data drop can't be to big, so as to not affect considerably the MVI calculation. Considering this, only 10% from the Non-Missing data is dropped."
   ]
  },
  {
   "cell_type": "code",
   "execution_count": 15,
   "id": "317fb800",
   "metadata": {},
   "outputs": [
    {
     "name": "stdout",
     "output_type": "stream",
     "text": [
      "Original percentage of missing data: 37.27%\n",
      "New Percentage of missing data: 43.54%\n"
     ]
    }
   ],
   "source": [
    "ce_data, index_drop = index_to_drop(0.1)"
   ]
  },
  {
   "cell_type": "code",
   "execution_count": 16,
   "id": "50a28e17",
   "metadata": {},
   "outputs": [
    {
     "data": {
      "text/html": [
       "<div>\n",
       "<style scoped>\n",
       "    .dataframe tbody tr th:only-of-type {\n",
       "        vertical-align: middle;\n",
       "    }\n",
       "\n",
       "    .dataframe tbody tr th {\n",
       "        vertical-align: top;\n",
       "    }\n",
       "\n",
       "    .dataframe thead th {\n",
       "        text-align: right;\n",
       "    }\n",
       "</style>\n",
       "<table border=\"1\" class=\"dataframe\">\n",
       "  <thead>\n",
       "    <tr style=\"text-align: right;\">\n",
       "      <th></th>\n",
       "      <th>ce</th>\n",
       "    </tr>\n",
       "    <tr>\n",
       "      <th>datetime</th>\n",
       "      <th></th>\n",
       "    </tr>\n",
       "  </thead>\n",
       "  <tbody>\n",
       "    <tr>\n",
       "      <th>2022-01-17 20:00:00</th>\n",
       "      <td>15.0</td>\n",
       "    </tr>\n",
       "    <tr>\n",
       "      <th>2018-07-28 05:00:00</th>\n",
       "      <td>27.0</td>\n",
       "    </tr>\n",
       "    <tr>\n",
       "      <th>2021-09-22 22:00:00</th>\n",
       "      <td>11.0</td>\n",
       "    </tr>\n",
       "    <tr>\n",
       "      <th>2020-01-31 14:00:00</th>\n",
       "      <td>70.0</td>\n",
       "    </tr>\n",
       "    <tr>\n",
       "      <th>2021-02-06 12:00:00</th>\n",
       "      <td>54.0</td>\n",
       "    </tr>\n",
       "    <tr>\n",
       "      <th>...</th>\n",
       "      <td>...</td>\n",
       "    </tr>\n",
       "    <tr>\n",
       "      <th>2020-04-14 12:00:00</th>\n",
       "      <td>45.0</td>\n",
       "    </tr>\n",
       "    <tr>\n",
       "      <th>2018-12-27 11:00:00</th>\n",
       "      <td>25.0</td>\n",
       "    </tr>\n",
       "    <tr>\n",
       "      <th>2019-07-29 02:00:00</th>\n",
       "      <td>11.0</td>\n",
       "    </tr>\n",
       "    <tr>\n",
       "      <th>2015-08-20 09:00:00</th>\n",
       "      <td>35.0</td>\n",
       "    </tr>\n",
       "    <tr>\n",
       "      <th>2015-02-19 20:00:00</th>\n",
       "      <td>14.0</td>\n",
       "    </tr>\n",
       "  </tbody>\n",
       "</table>\n",
       "<p>4010 rows × 1 columns</p>\n",
       "</div>"
      ],
      "text/plain": [
       "                       ce\n",
       "datetime                 \n",
       "2022-01-17 20:00:00  15.0\n",
       "2018-07-28 05:00:00  27.0\n",
       "2021-09-22 22:00:00  11.0\n",
       "2020-01-31 14:00:00  70.0\n",
       "2021-02-06 12:00:00  54.0\n",
       "...                   ...\n",
       "2020-04-14 12:00:00  45.0\n",
       "2018-12-27 11:00:00  25.0\n",
       "2019-07-29 02:00:00  11.0\n",
       "2015-08-20 09:00:00  35.0\n",
       "2015-02-19 20:00:00  14.0\n",
       "\n",
       "[4010 rows x 1 columns]"
      ]
     },
     "execution_count": 16,
     "metadata": {},
     "output_type": "execute_result"
    }
   ],
   "source": [
    "ce_data.loc[index_drop]"
   ]
  },
  {
   "cell_type": "markdown",
   "id": "3a32bb7f",
   "metadata": {},
   "source": [
    "## > Mean"
   ]
  },
  {
   "cell_type": "code",
   "execution_count": 17,
   "id": "5c876d9b",
   "metadata": {},
   "outputs": [],
   "source": [
    "sqlq = \"Select datetime, ce from sima_pm25\"\n",
    "mvi_mean = exp_mvi_mean(sqlq, index_drop)"
   ]
  },
  {
   "cell_type": "code",
   "execution_count": 18,
   "id": "e3e65d39",
   "metadata": {},
   "outputs": [
    {
     "data": {
      "text/html": [
       "<div>\n",
       "<style scoped>\n",
       "    .dataframe tbody tr th:only-of-type {\n",
       "        vertical-align: middle;\n",
       "    }\n",
       "\n",
       "    .dataframe tbody tr th {\n",
       "        vertical-align: top;\n",
       "    }\n",
       "\n",
       "    .dataframe thead th {\n",
       "        text-align: right;\n",
       "    }\n",
       "</style>\n",
       "<table border=\"1\" class=\"dataframe\">\n",
       "  <thead>\n",
       "    <tr style=\"text-align: right;\">\n",
       "      <th></th>\n",
       "      <th>ce</th>\n",
       "    </tr>\n",
       "    <tr>\n",
       "      <th>datetime</th>\n",
       "      <th></th>\n",
       "    </tr>\n",
       "  </thead>\n",
       "  <tbody>\n",
       "    <tr>\n",
       "      <th>2022-01-17 20:00:00</th>\n",
       "      <td>23.64065</td>\n",
       "    </tr>\n",
       "    <tr>\n",
       "      <th>2018-07-28 05:00:00</th>\n",
       "      <td>23.64065</td>\n",
       "    </tr>\n",
       "    <tr>\n",
       "      <th>2021-09-22 22:00:00</th>\n",
       "      <td>23.64065</td>\n",
       "    </tr>\n",
       "    <tr>\n",
       "      <th>2020-01-31 14:00:00</th>\n",
       "      <td>23.64065</td>\n",
       "    </tr>\n",
       "    <tr>\n",
       "      <th>2021-02-06 12:00:00</th>\n",
       "      <td>23.64065</td>\n",
       "    </tr>\n",
       "    <tr>\n",
       "      <th>...</th>\n",
       "      <td>...</td>\n",
       "    </tr>\n",
       "    <tr>\n",
       "      <th>2020-04-14 12:00:00</th>\n",
       "      <td>23.64065</td>\n",
       "    </tr>\n",
       "    <tr>\n",
       "      <th>2018-12-27 11:00:00</th>\n",
       "      <td>23.64065</td>\n",
       "    </tr>\n",
       "    <tr>\n",
       "      <th>2019-07-29 02:00:00</th>\n",
       "      <td>23.64065</td>\n",
       "    </tr>\n",
       "    <tr>\n",
       "      <th>2015-08-20 09:00:00</th>\n",
       "      <td>23.64065</td>\n",
       "    </tr>\n",
       "    <tr>\n",
       "      <th>2015-02-19 20:00:00</th>\n",
       "      <td>23.64065</td>\n",
       "    </tr>\n",
       "  </tbody>\n",
       "</table>\n",
       "<p>4010 rows × 1 columns</p>\n",
       "</div>"
      ],
      "text/plain": [
       "                           ce\n",
       "datetime                     \n",
       "2022-01-17 20:00:00  23.64065\n",
       "2018-07-28 05:00:00  23.64065\n",
       "2021-09-22 22:00:00  23.64065\n",
       "2020-01-31 14:00:00  23.64065\n",
       "2021-02-06 12:00:00  23.64065\n",
       "...                       ...\n",
       "2020-04-14 12:00:00  23.64065\n",
       "2018-12-27 11:00:00  23.64065\n",
       "2019-07-29 02:00:00  23.64065\n",
       "2015-08-20 09:00:00  23.64065\n",
       "2015-02-19 20:00:00  23.64065\n",
       "\n",
       "[4010 rows x 1 columns]"
      ]
     },
     "execution_count": 18,
     "metadata": {},
     "output_type": "execute_result"
    }
   ],
   "source": [
    "mvi_mean.loc[index_drop]"
   ]
  },
  {
   "cell_type": "markdown",
   "id": "0c3d0d61",
   "metadata": {},
   "source": [
    "## > Spatial Average"
   ]
  },
  {
   "cell_type": "code",
   "execution_count": 19,
   "id": "d2f4db2e",
   "metadata": {},
   "outputs": [],
   "source": [
    "sqlq = \"Select * from sima_pm25\"\n",
    "mvi_sa = exp_mvi_sa(sqlq, index_drop)"
   ]
  },
  {
   "cell_type": "code",
   "execution_count": 20,
   "id": "8256ac4e",
   "metadata": {},
   "outputs": [
    {
     "data": {
      "text/plain": [
       "datetime\n",
       "2022-01-17 20:00:00    15.000000\n",
       "2018-07-28 05:00:00    27.285714\n",
       "2021-09-22 22:00:00    16.300000\n",
       "2020-01-31 14:00:00    47.181818\n",
       "2021-02-06 12:00:00    35.600000\n",
       "                         ...    \n",
       "2020-04-14 12:00:00    14.750000\n",
       "2018-12-27 11:00:00    13.454545\n",
       "2019-07-29 02:00:00    11.700000\n",
       "2015-08-20 09:00:00    23.333333\n",
       "2015-02-19 20:00:00    18.333333\n",
       "Name: CE, Length: 4010, dtype: float64"
      ]
     },
     "execution_count": 20,
     "metadata": {},
     "output_type": "execute_result"
    }
   ],
   "source": [
    "mvi_sa[\"CE\"].loc[index_drop]"
   ]
  },
  {
   "cell_type": "markdown",
   "id": "c30f63d4",
   "metadata": {},
   "source": [
    "## > Multiple imputation by chained equations (MICE)"
   ]
  },
  {
   "cell_type": "code",
   "execution_count": 21,
   "id": "949272af",
   "metadata": {},
   "outputs": [],
   "source": [
    "sqlq = \"Select * from sima_pm25\"\n",
    "mvi_mice = exp_mvi_mice(sqlq, index_drop)"
   ]
  },
  {
   "cell_type": "code",
   "execution_count": 22,
   "id": "b72d8d7f",
   "metadata": {},
   "outputs": [
    {
     "data": {
      "text/plain": [
       "datetime\n",
       "2022-01-17 20:00:00    13.352779\n",
       "2018-07-28 05:00:00    27.492087\n",
       "2021-09-22 22:00:00     8.741853\n",
       "2020-01-31 14:00:00    48.736504\n",
       "2021-02-06 12:00:00    55.255241\n",
       "                         ...    \n",
       "2020-04-14 12:00:00    19.783234\n",
       "2018-12-27 11:00:00    11.468582\n",
       "2019-07-29 02:00:00    12.809752\n",
       "2015-08-20 09:00:00    23.305539\n",
       "2015-02-19 20:00:00    16.429979\n",
       "Name: CE, Length: 4010, dtype: float64"
      ]
     },
     "execution_count": 22,
     "metadata": {},
     "output_type": "execute_result"
    }
   ],
   "source": [
    "mvi_mice[\"CE\"].loc[index_drop]"
   ]
  },
  {
   "cell_type": "markdown",
   "id": "8dd5f454",
   "metadata": {},
   "source": [
    "# Residual Analysis"
   ]
  },
  {
   "cell_type": "code",
   "execution_count": 23,
   "id": "d90255ba",
   "metadata": {},
   "outputs": [],
   "source": [
    "y_true = ce_data[\"ce\"].loc[index_drop].values"
   ]
  },
  {
   "cell_type": "markdown",
   "id": "86b952a5",
   "metadata": {},
   "source": [
    "## > MAE"
   ]
  },
  {
   "cell_type": "code",
   "execution_count": 25,
   "id": "d55c4233",
   "metadata": {},
   "outputs": [],
   "source": [
    "from sklearn.metrics import mean_absolute_error"
   ]
  },
  {
   "cell_type": "code",
   "execution_count": 26,
   "id": "02e7106d",
   "metadata": {},
   "outputs": [
    {
     "data": {
      "text/plain": [
       "11.566782480854595"
      ]
     },
     "execution_count": 26,
     "metadata": {},
     "output_type": "execute_result"
    }
   ],
   "source": [
    "# MVI Mean\n",
    "y_pred = mvi_mean[\"ce\"].loc[index_drop].values\n",
    "mean_absolute_error(y_true, y_pred)"
   ]
  },
  {
   "cell_type": "code",
   "execution_count": 27,
   "id": "efb18566",
   "metadata": {},
   "outputs": [
    {
     "data": {
      "text/plain": [
       "8.246059542521763"
      ]
     },
     "execution_count": 27,
     "metadata": {},
     "output_type": "execute_result"
    }
   ],
   "source": [
    "# MVI Spatial Average\n",
    "y_pred = mvi_sa[\"CE\"].loc[index_drop].values\n",
    "y_pred[[i[0] for i in argwhere(isnan(y_pred))]] = 0.0\n",
    "mean_absolute_error(y_true, y_pred)"
   ]
  },
  {
   "cell_type": "code",
   "execution_count": 28,
   "id": "a17a0767",
   "metadata": {},
   "outputs": [
    {
     "data": {
      "text/plain": [
       "7.440977150567713"
      ]
     },
     "execution_count": 28,
     "metadata": {},
     "output_type": "execute_result"
    }
   ],
   "source": [
    "# MVI MICE\n",
    "y_pred = mvi_mice[\"CE\"].loc[index_drop].values\n",
    "mean_absolute_error(y_true, y_pred)"
   ]
  },
  {
   "cell_type": "markdown",
   "id": "37e9d16a",
   "metadata": {},
   "source": [
    "MICE Without removing negative values:\n",
    "7.447515139146674"
   ]
  },
  {
   "cell_type": "markdown",
   "id": "19d9e0e8",
   "metadata": {},
   "source": [
    "## > sMAPE"
   ]
  },
  {
   "cell_type": "code",
   "execution_count": 29,
   "id": "cf05d900",
   "metadata": {},
   "outputs": [],
   "source": [
    "def smape(t, p):\n",
    "    \"\"\"\n",
    "    t: true value\n",
    "    p: predicted value\n",
    "    \"\"\"\n",
    "    t = array(t)\n",
    "    p = array(p)\n",
    "    \n",
    "    num =  abs(p-t)\n",
    "    den =  (abs(t) + abs(p)) / 2\n",
    "    \n",
    "    return 1/len(t) * sum(num / den) * 100 "
   ]
  },
  {
   "cell_type": "code",
   "execution_count": 30,
   "id": "975dff64",
   "metadata": {},
   "outputs": [
    {
     "data": {
      "text/plain": [
       "49.56698670502486"
      ]
     },
     "execution_count": 30,
     "metadata": {},
     "output_type": "execute_result"
    }
   ],
   "source": [
    "# MVI Mean\n",
    "y_pred = mvi_mean[\"ce\"].loc[index_drop].values\n",
    "smape(y_true, y_pred)"
   ]
  },
  {
   "cell_type": "code",
   "execution_count": 31,
   "id": "9ef0d0c8",
   "metadata": {},
   "outputs": [
    {
     "data": {
      "text/plain": [
       "36.09950354050872"
      ]
     },
     "execution_count": 31,
     "metadata": {},
     "output_type": "execute_result"
    }
   ],
   "source": [
    "# MVI Spatial Average\n",
    "y_pred = mvi_sa[\"CE\"].loc[index_drop].values\n",
    "y_pred[[i[0] for i in argwhere(isnan(y_pred))]] = 0.0\n",
    "smape(y_true, y_pred)"
   ]
  },
  {
   "cell_type": "code",
   "execution_count": 32,
   "id": "02980b46",
   "metadata": {},
   "outputs": [
    {
     "data": {
      "text/plain": [
       "33.30496780497904"
      ]
     },
     "execution_count": 32,
     "metadata": {},
     "output_type": "execute_result"
    }
   ],
   "source": [
    "# MVI MICE\n",
    "y_pred = mvi_mice[\"CE\"].loc[index_drop].values\n",
    "smape(y_true, y_pred)"
   ]
  },
  {
   "cell_type": "markdown",
   "id": "13496fe2",
   "metadata": {},
   "source": [
    "MICE Without removing negative values:\n",
    "    33.40082705794553"
   ]
  },
  {
   "cell_type": "markdown",
   "id": "f25a579e",
   "metadata": {},
   "source": [
    "# Discussion\n",
    "After processing the data with multiple MVI methods, a particular case of interest happened. Starting with the Spatial Average method, there was the case where only the Obispado monitoring station had information while the other stations didn't have any. Since this method averages all the observations from each time step, and the CE station was removed for the residual analysis test, there was nothing to average and returned an empty value, which would affect the residual analysis. These values had to be transformed to zeroes to proceed with the residual analysis, otherwise the time series data would not be contiguous. Training with inconsistent data would complicate the data modeling stage and return worse performance metrics.\n",
    "\n",
    "There was also a problem with the MICE procedure in which it generated negative values. A negative value is not possible for any of the variables in the dataset. So, a procedure was implemented to replace any negative value from each variable with its corresponding real minimum greater than zero. This value was taken from the unprocessed data (i.e. original data). By doing so, the performance metrics for both the MAE and sMAPE impoved marginally from 7.4475 to 7.4409 for the MAE and from 33.400 to 33.304 for the sMAPE. "
   ]
  },
  {
   "cell_type": "markdown",
   "id": "b006103e",
   "metadata": {},
   "source": [
    "# Conclusions\n",
    "Using the MAE and sMAPE metrics, a hierarchy of performance was defined. With the best results was the MICE method, followed by the Spatial Average, and finally the mean. MICE had a MAE performance of 7.45 and a sMAPE performance of 33.40. "
   ]
  }
 ],
 "metadata": {
  "kernelspec": {
   "display_name": "Python 3 (ipykernel)",
   "language": "python",
   "name": "python3"
  },
  "language_info": {
   "codemirror_mode": {
    "name": "ipython",
    "version": 3
   },
   "file_extension": ".py",
   "mimetype": "text/x-python",
   "name": "python",
   "nbconvert_exporter": "python",
   "pygments_lexer": "ipython3",
   "version": "3.7.13"
  }
 },
 "nbformat": 4,
 "nbformat_minor": 5
}
