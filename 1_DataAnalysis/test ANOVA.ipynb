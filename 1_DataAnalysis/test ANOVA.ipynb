{
 "cells": [
  {
   "cell_type": "code",
   "execution_count": null,
   "id": "a455f158",
   "metadata": {},
   "outputs": [],
   "source": [
    "import statsmodels.api as sm\n",
    "from statsmodels.formula.api import ols"
   ]
  },
  {
   "cell_type": "code",
   "execution_count": null,
   "id": "7f01caee",
   "metadata": {},
   "outputs": [],
   "source": [
    "moore = sm.datasets.get_rdataset(\"Moore\", \"carData\", cache=True) # load\n",
    "data = moore.data\n",
    "data.head()"
   ]
  },
  {
   "cell_type": "code",
   "execution_count": null,
   "id": "ab8f937a",
   "metadata": {},
   "outputs": [],
   "source": [
    "data = data.rename(columns={\"partner.status\" :\n",
    "                             \"partner_status\"}) # make name pythonic\n",
    "data = data[['partner_status','fcategory','conformity']]"
   ]
  },
  {
   "cell_type": "code",
   "execution_count": null,
   "id": "bac4c831",
   "metadata": {},
   "outputs": [],
   "source": [
    "data.head()"
   ]
  },
  {
   "cell_type": "markdown",
   "id": "22010b9a",
   "metadata": {},
   "source": [
    "### Means"
   ]
  },
  {
   "cell_type": "code",
   "execution_count": null,
   "id": "5bb9e957",
   "metadata": {},
   "outputs": [],
   "source": [
    "# By partner_status\n",
    "data.groupby('partner_status').mean()"
   ]
  },
  {
   "cell_type": "code",
   "execution_count": null,
   "id": "dfd6f419",
   "metadata": {},
   "outputs": [],
   "source": [
    "# By fcategory\n",
    "data.groupby('fcategory').mean()"
   ]
  },
  {
   "cell_type": "code",
   "execution_count": null,
   "id": "c358862f",
   "metadata": {},
   "outputs": [],
   "source": [
    "# By partner_status and fcategory\n",
    "data.groupby(['partner_status','fcategory']).mean()"
   ]
  },
  {
   "cell_type": "markdown",
   "id": "a62d8d7b",
   "metadata": {},
   "source": [
    "### Answer the following questions:\n",
    "- How many Degrees of Freedom are on the variance for partner_status and fcategory?\n",
    "- Conformity mean seems to be equal when we split data by partner_status? \n",
    "- Conformity mean seems to be equal when we split data by fcategory?\n",
    "- Conformity mean seems to be equal when we split data by both partner_status and fcategory? "
   ]
  },
  {
   "cell_type": "code",
   "execution_count": null,
   "id": "263125f3",
   "metadata": {},
   "outputs": [],
   "source": [
    "# Train an Ordinary Least Squares model with the two categorical variables and the intereaction between them.\n",
    "moore_lm = ols('conformity ~ C(fcategory, Sum)*C(partner_status, Sum)',\n",
    "                 data=data).fit()"
   ]
  },
  {
   "cell_type": "code",
   "execution_count": null,
   "id": "91019a85",
   "metadata": {},
   "outputs": [],
   "source": [
    "# Run a two-way ANOVA test\n",
    "table = sm.stats.anova_lm(moore_lm, typ=2) # Type 2 Anova DataFrame\n",
    "print(table)"
   ]
  },
  {
   "cell_type": "markdown",
   "id": "336f85d4",
   "metadata": {},
   "source": [
    "### Answer the following questions:\n",
    "- The means are different between fcategories (with 95% of confidence)?\n",
    "- The means are different between partner_status  (with 95% of confidence)?\n",
    "- The means are different if you consider both fcategories and partner_status (with 95% of confidence)?"
   ]
  },
  {
   "cell_type": "code",
   "execution_count": null,
   "id": "d80b1540",
   "metadata": {},
   "outputs": [],
   "source": []
  }
 ],
 "metadata": {
  "kernelspec": {
   "display_name": "Python 3 (ipykernel)",
   "language": "python",
   "name": "python3"
  },
  "language_info": {
   "codemirror_mode": {
    "name": "ipython",
    "version": 3
   },
   "file_extension": ".py",
   "mimetype": "text/x-python",
   "name": "python",
   "nbconvert_exporter": "python",
   "pygments_lexer": "ipython3",
   "version": "3.9.7"
  }
 },
 "nbformat": 4,
 "nbformat_minor": 5
}
