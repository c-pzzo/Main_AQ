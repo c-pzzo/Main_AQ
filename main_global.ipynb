{
 "cells": [
  {
   "cell_type": "markdown",
   "id": "bc3ca9ae",
   "metadata": {},
   "source": [
    "# Libraries"
   ]
  },
  {
   "cell_type": "code",
   "execution_count": 1,
   "id": "8f4838d9",
   "metadata": {},
   "outputs": [],
   "source": [
    "import os\n",
    "import mysql.connector\n",
    "import yaml\n",
    "from glob import iglob\n",
    "\n",
    "from pandas import DataFrame"
   ]
  },
  {
   "cell_type": "markdown",
   "id": "f4e6fbe2",
   "metadata": {},
   "source": [
    "# Global Parameters"
   ]
  },
  {
   "cell_type": "code",
   "execution_count": 2,
   "id": "6a4ce982",
   "metadata": {},
   "outputs": [],
   "source": [
    "yaml_filename = \"mysql_credentials.yaml\"\n",
    "new_yaml_filnename = \"\"\n",
    "\n",
    "for i in range(5):\n",
    "    if not(os.path.exists(new_yaml_filnename)):\n",
    "        new_yaml_filnename = \"../\"*i + yaml_filename\n",
    "    else:\n",
    "        yaml_filename = new_yaml_filnename        \n",
    "        break"
   ]
  },
  {
   "cell_type": "code",
   "execution_count": 3,
   "id": "5d149eca",
   "metadata": {},
   "outputs": [
    {
     "name": "stdout",
     "output_type": "stream",
     "text": [
      "Connection with MySQL database is ready!\n"
     ]
    }
   ],
   "source": [
    "# For privacy reasons, user credentials are located in a separate .yaml file\n",
    "\n",
    "try:\n",
    "    mysql_credentials = yaml.safe_load(open(yaml_filename))\n",
    "except:\n",
    "    print('Login information is not available!!!')\n",
    "\n",
    "mysql_user = mysql_credentials[0]['mysql_user']\n",
    "mysql_pwd = mysql_credentials[0]['mysql_pwd']\n",
    "mysql_database_name = mysql_credentials[0]['mysql_database_name']\n",
    "print('Connection with MySQL database is ready!')\n",
    "\n",
    "mydb = mysql.connector.connect(\n",
    "  host=\"localhost\"\n",
    "  ,user=mysql_user\n",
    "  ,password=mysql_pwd\n",
    "  ,database='HDL_Project'\n",
    ")\n",
    "\n",
    "mycursor = mydb.cursor()    "
   ]
  },
  {
   "cell_type": "markdown",
   "id": "1cb2be7d",
   "metadata": {},
   "source": [
    "# User-Defined Functions / Classes"
   ]
  },
  {
   "cell_type": "code",
   "execution_count": 4,
   "id": "bc4e76e5",
   "metadata": {},
   "outputs": [],
   "source": [
    "def tablename_from_sqlq(sqlq):\n",
    "    \"\"\"\n",
    "    Extract tablename from sql query\n",
    "    \"\"\"\n",
    "    sqlq = sqlq.replace(\"FROM\", \"from\")\n",
    "    # Add a space at the end of query\n",
    "    txt = sqlq + \" \"\n",
    "    # Replace irrelevant characters\n",
    "    txt = txt.replace(\"`\", \"\")\n",
    "\n",
    "    # Obtain table name from sql table\n",
    "    index_from = txt.find(\"from\")\n",
    "    txt = txt[index_from + 5:]\n",
    "    txt = txt[:txt.find(\" \")]\n",
    "    \n",
    "    return txt    "
   ]
  },
  {
   "cell_type": "code",
   "execution_count": 5,
   "id": "ac900853",
   "metadata": {},
   "outputs": [],
   "source": [
    "def cols_from_sqlq(sqlq):\n",
    "    sqlq = sqlq.replace(\"FROM\", \"from\")\n",
    "    sql_table = tablename_from_sqlq(sqlq)\n",
    "\n",
    "    if sqlq.find(\"*\") != -1:\n",
    "        col_list = aux_qdata(\"show columns from {}\".format(sql_table))\n",
    "        col_names = [col_list[i][0] for i in range(len(col_list))]\n",
    "\n",
    "    else:\n",
    "        \n",
    "        col_aux = sqlq[7:sqlq.find(\" from\")]\n",
    "        col_names = [col.strip() for col in col_aux.split(\",\")]\n",
    "        \n",
    "    return col_names"
   ]
  },
  {
   "cell_type": "code",
   "execution_count": 6,
   "id": "7476f18d",
   "metadata": {},
   "outputs": [],
   "source": [
    "def where_from_sqlq(sqlq):\n",
    "    sqlq = sqlq.replace(\"WHERE\", \"where\")\n",
    "    \n",
    "    return sqlq[sqlq.find(\"where\"):]"
   ]
  },
  {
   "cell_type": "code",
   "execution_count": 7,
   "id": "ac7c5bd7",
   "metadata": {},
   "outputs": [],
   "source": [
    "#https://dev.mysql.com/doc/connector-python/en/connector-python-example-cursor-transaction.html\n",
    "\n",
    "def aux_qdata(sqlq):\n",
    "    \"\"\"\n",
    "    UDF to query data in raw format from a local MySQL RDBMS\n",
    "    \n",
    "    Input:\n",
    "    \"sqlq\": Query (e.g. Select * from table)\n",
    "    \n",
    "    \"\"\"\n",
    "    mycursor.execute(sqlq)\n",
    "    myresult = mycursor.fetchall()\n",
    "    return myresult"
   ]
  },
  {
   "cell_type": "code",
   "execution_count": 8,
   "id": "1602438c",
   "metadata": {},
   "outputs": [],
   "source": [
    "def qdata(sqlq):\n",
    "    \"\"\"\n",
    "    qdata queries data from MySQL RDBMS and returns it in a dataframe format\n",
    "    , along with its corresponding column names. \n",
    "    \n",
    "    Input:\n",
    "    * `sql_table`: Table name\n",
    "    * `sqlq`: Complete query (e.g. Select * from table where col1 = \"val1\")\n",
    "    (!) Don't rename columns here (e.g. \"Select col1 as colA ...\"). \n",
    "    \n",
    "    \"\"\"\n",
    "    col_names = cols_from_sqlq(sqlq)\n",
    "\n",
    "    data = DataFrame(aux_qdata(sqlq))\n",
    "    \n",
    "    data.columns = col_names\n",
    "\n",
    "    return data"
   ]
  },
  {
   "cell_type": "code",
   "execution_count": 9,
   "id": "36cad968",
   "metadata": {},
   "outputs": [],
   "source": [
    "class data_restructuring():\n",
    "    \"\"\"\n",
    "    * Restructure_Raw_Data(): Function to restructure original raw data from SIMA to upload to MySQL database\n",
    "    * \n",
    "    \"\"\"\n",
    "    \n",
    "    def __init__(self, file_location = \"Raw_SIMA_Data\"):\n",
    "        \n",
    "        self.file_location = \"/\" + file_location +  \"/\"\n",
    "        self.new_file_location = \"/Restructured_\" + self.file_location[1:]\n",
    "        \n",
    "        self.files_list = list(iglob('.{}*22.csv'.format(self.file_location)))\n",
    "\n",
    "        self.data_type = ['F', 'F', 'F', 'F', 'I', 'I', 'I', 'F', 'F', 'I', 'F', 'F', 'I', 'I', 'F']\n",
    "        self.cols = ['datetime','SE','NE','CE','NO','SO','NO2','NTE','NE2','SE2','SO2','SE3','SUR','NTE2','NE3']\n",
    "\n",
    "        self.F_types = ['DATETIME NOT NULL', 'FLOAT NULL', 'FLOAT NULL', 'FLOAT NULL', 'FLOAT NULL', 'FLOAT NULL', 'FLOAT NULL', 'FLOAT NULL', 'FLOAT NULL', 'FLOAT NULL', 'FLOAT NULL', 'FLOAT NULL', 'FLOAT NULL', 'FLOAT NULL', 'FLOAT NULL']\n",
    "        self.I_types = ['DATETIME NOT NULL', 'INT NULL', 'INT NULL', 'INT NULL', 'INT NULL', 'INT NULL', 'INT NULL', 'INT NULL', 'INT NULL', 'INT NULL', 'INT NULL', 'INT NULL', 'INT NULL', 'INT NULL', 'INT NULL']\n",
    "        \n",
    "    def Restructure_Raw_Data(self):\n",
    "\n",
    "        for file_to_edit in self.files_list:\n",
    "            # Editing original raw files\n",
    "            df = read_csv(file_to_edit)\n",
    "            file_location = self.file_location\n",
    "            new_file_location = self.new_file_location\n",
    "\n",
    "            # datetime is originally structured as DD/MM/YYYY and will be transformed to YYYY/MM/DD\n",
    "            day = df['date'].str.slice(0, 2)\n",
    "            month = df['date'].str.slice(3, 5)\n",
    "            year = df['date'].str.slice(6, 10)\n",
    "            time = df['date'].str[11:] + \":00\"\n",
    "\n",
    "            df[\"datetime_edit\"] = year + \"-\" + month + \"-\" + day + \" \" + time\n",
    "\n",
    "            df[\"date\"] = df[\"datetime_edit\"]\n",
    "            df = df.drop(\"datetime_edit\", axis = 1)    \n",
    "            df = df.rename(columns={\"date\": \"datetime\"})\n",
    "\n",
    "            file_to_edit = file_to_edit.replace(\"./\", \"\")\n",
    "\n",
    "            rename = file_to_edit\n",
    "            rename = rename.replace(self.file_location[1:], \"\")\n",
    "            rename = rename.replace(\"_2015_2022.csv\", \"\").lower()\n",
    "            rename = \"sima_\" + rename + \".csv\"\n",
    "            rename = self.new_file_location[1:] + rename\n",
    "\n",
    "            # Case-specific edit\n",
    "            rename = rename.replace(\"2.5\", \"25\")\n",
    "\n",
    "            df.to_csv(rename, encoding='utf-8', index=False)            \n",
    "            \n",
    "    \n",
    "    def sql_tables_structures(self, files_list, directory, prefix):\n",
    "        \"\"\"\n",
    "        \n",
    "        \"\"\"\n",
    "        with open(\"{}_sql_tables_structure.sql\".format(prefix),\"w\") as file:\n",
    "            # Query commands to create SQL tables.\n",
    "            for i in files_list:\n",
    "                file.write(\"CREATE TABLE {}.`{}` (\\n\".format(mysql_database_name, i))\n",
    "                for j, k, l in zip(range(len(files_list)), self.cols, self.data_type):\n",
    "                    if l == \"F\":\n",
    "                        dtypes = self.F_types\n",
    "                    else:\n",
    "                        dtypes = self.I_types\n",
    "\n",
    "                    if j == 0:\n",
    "                        file.write(\"`{}` {}\\n\".format(k, dtypes[j]))\n",
    "                    else:\n",
    "                        file.write(\", `{}` {}\\n\".format(k, dtypes[j]))\n",
    "                file.write(\") COMMENT = \\\"Source: ./{}/{}.csv\\\"\\n;\".format(directory,i))\n",
    "                file.write(\"\\n\")\n",
    "                \n",
    "    def upload_csv_script(self, files_list, directory, prefix):\n",
    "        # Command line. Insert CSV files into created MySQL tables\n",
    "        with open(\"{}_upload_csv.sh\".format(prefix),\"w\") as file:\n",
    "            file.write(\"#!/bin/bash\\n\")\n",
    "            \n",
    "            for i in files_list:\n",
    "                file.write(\"mysql -u{} -p{} --local-infile {} -e \\\"LOAD DATA LOCAL INFILE \\'./{}/{}.csv\\'  INTO TABLE {} FIELDS TERMINATED BY \\',\\' LINES TERMINATED BY \\'\\\\n\\' IGNORE 1 ROWS\\\"; \\n\".format(mysql_user, mysql_pwd, mysql_database_name, directory, i, i))\n",
    "\n",
    "                \n",
    "    def creating_views(self, files_list_trim, prefix):\n",
    "        params_list = [i[len(mvi_method_name)+6:] for i in files_list_trim]\n",
    "        params_list.remove(\"co\")\n",
    "        stations = qdata(\"select * from cat_stations\")[\"station_code\"].values\n",
    "\n",
    "        with open(\"{}_views_creation.sql\".format(prefix),\"w\") as file:\n",
    "            for s in stations:\n",
    "                file.write(\"CREATE VIEW {}.sima_station_{}_{} AS \\n\".format(mysql_database_name, prefix, s))\n",
    "                for t, n, k in zip(files_list_trim, params_list, range(len(params_list))):\n",
    "                    if k == 0: \n",
    "                        select_cols = \"Select l{}.datetime, l{}.CE as co\".format(k, k)\n",
    "                        table_joins = \"from {}.{} l{} \".format(mysql_database_name, t, k)\n",
    "                    else:\n",
    "                        select_cols = select_cols + \", l{}.{} as {}\".format(k, s, n)\n",
    "                        table_joins = table_joins + \" left join {}.{} l{} ON l0.datetime = l{}.datetime\".format(mysql_database_name, t, k, k)\n",
    "\n",
    "                file.write(select_cols + \"\\n\") \n",
    "                file.write(table_joins + \";\\n\")\n",
    "                file.write(\"\\n\")                "
   ]
  },
  {
   "cell_type": "code",
   "execution_count": 10,
   "id": "8e360493",
   "metadata": {},
   "outputs": [],
   "source": [
    "#del mysql_credentials, mysql_user, mysql_pwd, mysql_database_name"
   ]
  }
 ],
 "metadata": {
  "kernelspec": {
   "display_name": "Python 3 (ipykernel)",
   "language": "python",
   "name": "python3"
  },
  "language_info": {
   "codemirror_mode": {
    "name": "ipython",
    "version": 3
   },
   "file_extension": ".py",
   "mimetype": "text/x-python",
   "name": "python",
   "nbconvert_exporter": "python",
   "pygments_lexer": "ipython3",
   "version": "3.8.12"
  }
 },
 "nbformat": 4,
 "nbformat_minor": 5
}
