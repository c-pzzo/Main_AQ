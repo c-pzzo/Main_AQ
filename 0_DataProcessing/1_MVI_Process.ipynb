{
 "cells": [
  {
   "cell_type": "markdown",
   "id": "b99b8b0f",
   "metadata": {},
   "source": [
    "# About"
   ]
  },
  {
   "cell_type": "markdown",
   "id": "d9c63bbf",
   "metadata": {},
   "source": [
    "# Libraries"
   ]
  },
  {
   "cell_type": "code",
   "execution_count": 1,
   "id": "b1a290a2",
   "metadata": {},
   "outputs": [],
   "source": [
    "#pip install fancyimpute"
   ]
  },
  {
   "cell_type": "code",
   "execution_count": 53,
   "id": "a50abe95",
   "metadata": {},
   "outputs": [
    {
     "name": "stdout",
     "output_type": "stream",
     "text": [
      "Connection with MySQL database is ready!\n"
     ]
    }
   ],
   "source": [
    "%run \"../main_global.ipynb\""
   ]
  },
  {
   "cell_type": "code",
   "execution_count": 54,
   "id": "a434b28c",
   "metadata": {},
   "outputs": [
    {
     "name": "stdout",
     "output_type": "stream",
     "text": [
      "Functions for MVI Processes are ready!\n"
     ]
    }
   ],
   "source": [
    "%run \"../main_mvi.ipynb\""
   ]
  },
  {
   "cell_type": "code",
   "execution_count": 4,
   "id": "853fa100",
   "metadata": {},
   "outputs": [],
   "source": [
    "from numpy import nan\n",
    "from fancyimpute import IterativeImputer"
   ]
  },
  {
   "cell_type": "markdown",
   "id": "f7776787",
   "metadata": {},
   "source": [
    "# UDF"
   ]
  },
  {
   "cell_type": "code",
   "execution_count": 5,
   "id": "f9519d6c",
   "metadata": {},
   "outputs": [],
   "source": [
    "def mvi_process_tables(path, mvi_method, mvi_method_name, write_out = True, raw_list = raw_table_list()):\n",
    "    results = empty_df_measurement_station()\n",
    "    create_external_objects(mvi_method_name, path)\n",
    "    \n",
    "    for table_name in raw_list:\n",
    "        \n",
    "        # Read raw dataset\n",
    "        sqlq = \"SELECT * FROM {}\".format(table_name)\n",
    "        \n",
    "        # Reformat table\n",
    "        raw_df = reindex_aq_table(qdata(sqlq))\n",
    "        \n",
    "        # Count NaN values \n",
    "        nulls_count = count_nulls(raw_df, table_name)        \n",
    "        results = results.append(nulls_count)\n",
    "\n",
    "        # Write out table\n",
    "        if write_out:\n",
    "            mvi_df = mvi_method(raw_df)\n",
    "            \n",
    "            mvi_df = mvi_df.reset_index(drop = False)\n",
    "            full_path = path + \"/\" + mvi_method_name + \"_\" + table_name + \".csv\"\n",
    "\n",
    "            mvi_df.to_csv(full_path, encoding='utf-8', index=False)\n",
    "        \n",
    "    return results"
   ]
  },
  {
   "cell_type": "markdown",
   "id": "35aad2f0",
   "metadata": {},
   "source": [
    "# Main"
   ]
  },
  {
   "cell_type": "markdown",
   "id": "8370b78d",
   "metadata": {},
   "source": [
    "## > MVI - Mean Substitution"
   ]
  },
  {
   "cell_type": "code",
   "execution_count": 6,
   "id": "aec6d074",
   "metadata": {},
   "outputs": [
    {
     "name": "stdout",
     "output_type": "stream",
     "text": [
      "mkdir: cannot create directory ‘MVI_mean_SIMA_Data’: File exists\r\n"
     ]
    }
   ],
   "source": [
    "mvi_method_name = \"MVI_mean\"\n",
    "directory = mvi_method_name + \"_SIMA_Data\"\n",
    "\n",
    "!mkdir {directory}"
   ]
  },
  {
   "cell_type": "code",
   "execution_count": 7,
   "id": "b4364a8e",
   "metadata": {},
   "outputs": [
    {
     "data": {
      "text/html": [
       "<div>\n",
       "<style scoped>\n",
       "    .dataframe tbody tr th:only-of-type {\n",
       "        vertical-align: middle;\n",
       "    }\n",
       "\n",
       "    .dataframe tbody tr th {\n",
       "        vertical-align: top;\n",
       "    }\n",
       "\n",
       "    .dataframe thead th {\n",
       "        text-align: right;\n",
       "    }\n",
       "</style>\n",
       "<table border=\"1\" class=\"dataframe\">\n",
       "  <thead>\n",
       "    <tr style=\"text-align: right;\">\n",
       "      <th></th>\n",
       "      <th>SE</th>\n",
       "      <th>NE</th>\n",
       "      <th>CE</th>\n",
       "      <th>NO</th>\n",
       "      <th>SO</th>\n",
       "      <th>NO2</th>\n",
       "      <th>NTE</th>\n",
       "      <th>NE2</th>\n",
       "      <th>SE2</th>\n",
       "      <th>SO2</th>\n",
       "      <th>SE3</th>\n",
       "      <th>SUR</th>\n",
       "      <th>NTE2</th>\n",
       "      <th>NE3</th>\n",
       "    </tr>\n",
       "  </thead>\n",
       "  <tbody>\n",
       "    <tr>\n",
       "      <th>sima_co</th>\n",
       "      <td>8654</td>\n",
       "      <td>21290</td>\n",
       "      <td>11573</td>\n",
       "      <td>23458</td>\n",
       "      <td>19034</td>\n",
       "      <td>21311</td>\n",
       "      <td>26729</td>\n",
       "      <td>23645</td>\n",
       "      <td>36567</td>\n",
       "      <td>13742</td>\n",
       "      <td>28652</td>\n",
       "      <td>44351</td>\n",
       "      <td>28194</td>\n",
       "      <td>50516</td>\n",
       "    </tr>\n",
       "    <tr>\n",
       "      <th>sima_no</th>\n",
       "      <td>55552</td>\n",
       "      <td>35881</td>\n",
       "      <td>13875</td>\n",
       "      <td>35461</td>\n",
       "      <td>26568</td>\n",
       "      <td>38353</td>\n",
       "      <td>44991</td>\n",
       "      <td>48662</td>\n",
       "      <td>29204</td>\n",
       "      <td>11414</td>\n",
       "      <td>25743</td>\n",
       "      <td>50725</td>\n",
       "      <td>42282</td>\n",
       "      <td>50506</td>\n",
       "    </tr>\n",
       "    <tr>\n",
       "      <th>sima_no2</th>\n",
       "      <td>54533</td>\n",
       "      <td>44883</td>\n",
       "      <td>12360</td>\n",
       "      <td>37954</td>\n",
       "      <td>30646</td>\n",
       "      <td>40175</td>\n",
       "      <td>44647</td>\n",
       "      <td>48529</td>\n",
       "      <td>30838</td>\n",
       "      <td>11818</td>\n",
       "      <td>25584</td>\n",
       "      <td>50452</td>\n",
       "      <td>43079</td>\n",
       "      <td>50372</td>\n",
       "    </tr>\n",
       "    <tr>\n",
       "      <th>sima_nox</th>\n",
       "      <td>54576</td>\n",
       "      <td>44902</td>\n",
       "      <td>12045</td>\n",
       "      <td>37625</td>\n",
       "      <td>29200</td>\n",
       "      <td>38212</td>\n",
       "      <td>44683</td>\n",
       "      <td>48092</td>\n",
       "      <td>28691</td>\n",
       "      <td>10508</td>\n",
       "      <td>25565</td>\n",
       "      <td>48053</td>\n",
       "      <td>42732</td>\n",
       "      <td>50410</td>\n",
       "    </tr>\n",
       "    <tr>\n",
       "      <th>sima_o3</th>\n",
       "      <td>3203</td>\n",
       "      <td>19410</td>\n",
       "      <td>15358</td>\n",
       "      <td>23516</td>\n",
       "      <td>15616</td>\n",
       "      <td>28023</td>\n",
       "      <td>44175</td>\n",
       "      <td>52113</td>\n",
       "      <td>36495</td>\n",
       "      <td>7612</td>\n",
       "      <td>29216</td>\n",
       "      <td>51681</td>\n",
       "      <td>43896</td>\n",
       "      <td>50350</td>\n",
       "    </tr>\n",
       "    <tr>\n",
       "      <th>sima_pm10</th>\n",
       "      <td>2961</td>\n",
       "      <td>2114</td>\n",
       "      <td>2670</td>\n",
       "      <td>3499</td>\n",
       "      <td>2697</td>\n",
       "      <td>8106</td>\n",
       "      <td>6549</td>\n",
       "      <td>4051</td>\n",
       "      <td>3690</td>\n",
       "      <td>11748</td>\n",
       "      <td>24930</td>\n",
       "      <td>26032</td>\n",
       "      <td>26650</td>\n",
       "      <td>53228</td>\n",
       "    </tr>\n",
       "    <tr>\n",
       "      <th>sima_pm25</th>\n",
       "      <td>16200</td>\n",
       "      <td>27663</td>\n",
       "      <td>23830</td>\n",
       "      <td>25019</td>\n",
       "      <td>17977</td>\n",
       "      <td>38194</td>\n",
       "      <td>38803</td>\n",
       "      <td>18838</td>\n",
       "      <td>38919</td>\n",
       "      <td>28115</td>\n",
       "      <td>30808</td>\n",
       "      <td>44169</td>\n",
       "      <td>32794</td>\n",
       "      <td>63935</td>\n",
       "    </tr>\n",
       "    <tr>\n",
       "      <th>sima_prs</th>\n",
       "      <td>20835</td>\n",
       "      <td>3803</td>\n",
       "      <td>2971</td>\n",
       "      <td>2662</td>\n",
       "      <td>2167</td>\n",
       "      <td>7610</td>\n",
       "      <td>10833</td>\n",
       "      <td>4060</td>\n",
       "      <td>5990</td>\n",
       "      <td>1425</td>\n",
       "      <td>24017</td>\n",
       "      <td>24670</td>\n",
       "      <td>24912</td>\n",
       "      <td>50688</td>\n",
       "    </tr>\n",
       "    <tr>\n",
       "      <th>sima_rainf</th>\n",
       "      <td>61570</td>\n",
       "      <td>62121</td>\n",
       "      <td>63600</td>\n",
       "      <td>62806</td>\n",
       "      <td>62624</td>\n",
       "      <td>63491</td>\n",
       "      <td>63925</td>\n",
       "      <td>61617</td>\n",
       "      <td>61950</td>\n",
       "      <td>62575</td>\n",
       "      <td>62683</td>\n",
       "      <td>63935</td>\n",
       "      <td>62673</td>\n",
       "      <td>63574</td>\n",
       "    </tr>\n",
       "    <tr>\n",
       "      <th>sima_rh</th>\n",
       "      <td>3506</td>\n",
       "      <td>4435</td>\n",
       "      <td>1637</td>\n",
       "      <td>1283</td>\n",
       "      <td>1513</td>\n",
       "      <td>8689</td>\n",
       "      <td>12110</td>\n",
       "      <td>9607</td>\n",
       "      <td>15233</td>\n",
       "      <td>1410</td>\n",
       "      <td>25649</td>\n",
       "      <td>24715</td>\n",
       "      <td>24916</td>\n",
       "      <td>50379</td>\n",
       "    </tr>\n",
       "    <tr>\n",
       "      <th>sima_so2</th>\n",
       "      <td>10384</td>\n",
       "      <td>14464</td>\n",
       "      <td>21219</td>\n",
       "      <td>27083</td>\n",
       "      <td>25678</td>\n",
       "      <td>39651</td>\n",
       "      <td>38246</td>\n",
       "      <td>36686</td>\n",
       "      <td>21099</td>\n",
       "      <td>27391</td>\n",
       "      <td>31930</td>\n",
       "      <td>39404</td>\n",
       "      <td>41368</td>\n",
       "      <td>50737</td>\n",
       "    </tr>\n",
       "    <tr>\n",
       "      <th>sima_sr</th>\n",
       "      <td>8877</td>\n",
       "      <td>35438</td>\n",
       "      <td>11733</td>\n",
       "      <td>17603</td>\n",
       "      <td>22008</td>\n",
       "      <td>29091</td>\n",
       "      <td>27311</td>\n",
       "      <td>11380</td>\n",
       "      <td>26030</td>\n",
       "      <td>31064</td>\n",
       "      <td>23778</td>\n",
       "      <td>25060</td>\n",
       "      <td>43339</td>\n",
       "      <td>57156</td>\n",
       "    </tr>\n",
       "    <tr>\n",
       "      <th>sima_tout</th>\n",
       "      <td>4373</td>\n",
       "      <td>3803</td>\n",
       "      <td>1821</td>\n",
       "      <td>7084</td>\n",
       "      <td>1606</td>\n",
       "      <td>7250</td>\n",
       "      <td>10493</td>\n",
       "      <td>4072</td>\n",
       "      <td>2819</td>\n",
       "      <td>1410</td>\n",
       "      <td>23905</td>\n",
       "      <td>24908</td>\n",
       "      <td>33406</td>\n",
       "      <td>50365</td>\n",
       "    </tr>\n",
       "    <tr>\n",
       "      <th>sima_wdr</th>\n",
       "      <td>36881</td>\n",
       "      <td>21688</td>\n",
       "      <td>2059</td>\n",
       "      <td>7505</td>\n",
       "      <td>28211</td>\n",
       "      <td>24975</td>\n",
       "      <td>10178</td>\n",
       "      <td>25583</td>\n",
       "      <td>17047</td>\n",
       "      <td>9831</td>\n",
       "      <td>23796</td>\n",
       "      <td>34469</td>\n",
       "      <td>24883</td>\n",
       "      <td>50304</td>\n",
       "    </tr>\n",
       "    <tr>\n",
       "      <th>sima_wsr</th>\n",
       "      <td>1380</td>\n",
       "      <td>8105</td>\n",
       "      <td>1625</td>\n",
       "      <td>5562</td>\n",
       "      <td>9630</td>\n",
       "      <td>6911</td>\n",
       "      <td>12025</td>\n",
       "      <td>7596</td>\n",
       "      <td>7864</td>\n",
       "      <td>10422</td>\n",
       "      <td>25182</td>\n",
       "      <td>30092</td>\n",
       "      <td>24853</td>\n",
       "      <td>50868</td>\n",
       "    </tr>\n",
       "  </tbody>\n",
       "</table>\n",
       "</div>"
      ],
      "text/plain": [
       "               SE     NE     CE     NO     SO    NO2    NTE    NE2    SE2  \\\n",
       "sima_co      8654  21290  11573  23458  19034  21311  26729  23645  36567   \n",
       "sima_no     55552  35881  13875  35461  26568  38353  44991  48662  29204   \n",
       "sima_no2    54533  44883  12360  37954  30646  40175  44647  48529  30838   \n",
       "sima_nox    54576  44902  12045  37625  29200  38212  44683  48092  28691   \n",
       "sima_o3      3203  19410  15358  23516  15616  28023  44175  52113  36495   \n",
       "sima_pm10    2961   2114   2670   3499   2697   8106   6549   4051   3690   \n",
       "sima_pm25   16200  27663  23830  25019  17977  38194  38803  18838  38919   \n",
       "sima_prs    20835   3803   2971   2662   2167   7610  10833   4060   5990   \n",
       "sima_rainf  61570  62121  63600  62806  62624  63491  63925  61617  61950   \n",
       "sima_rh      3506   4435   1637   1283   1513   8689  12110   9607  15233   \n",
       "sima_so2    10384  14464  21219  27083  25678  39651  38246  36686  21099   \n",
       "sima_sr      8877  35438  11733  17603  22008  29091  27311  11380  26030   \n",
       "sima_tout    4373   3803   1821   7084   1606   7250  10493   4072   2819   \n",
       "sima_wdr    36881  21688   2059   7505  28211  24975  10178  25583  17047   \n",
       "sima_wsr     1380   8105   1625   5562   9630   6911  12025   7596   7864   \n",
       "\n",
       "              SO2    SE3    SUR   NTE2    NE3  \n",
       "sima_co     13742  28652  44351  28194  50516  \n",
       "sima_no     11414  25743  50725  42282  50506  \n",
       "sima_no2    11818  25584  50452  43079  50372  \n",
       "sima_nox    10508  25565  48053  42732  50410  \n",
       "sima_o3      7612  29216  51681  43896  50350  \n",
       "sima_pm10   11748  24930  26032  26650  53228  \n",
       "sima_pm25   28115  30808  44169  32794  63935  \n",
       "sima_prs     1425  24017  24670  24912  50688  \n",
       "sima_rainf  62575  62683  63935  62673  63574  \n",
       "sima_rh      1410  25649  24715  24916  50379  \n",
       "sima_so2    27391  31930  39404  41368  50737  \n",
       "sima_sr     31064  23778  25060  43339  57156  \n",
       "sima_tout    1410  23905  24908  33406  50365  \n",
       "sima_wdr     9831  23796  34469  24883  50304  \n",
       "sima_wsr    10422  25182  30092  24853  50868  "
      ]
     },
     "execution_count": 7,
     "metadata": {},
     "output_type": "execute_result"
    }
   ],
   "source": [
    "results = mvi_process_tables(directory, mvi_mean, mvi_method_name, False)\n",
    "results"
   ]
  },
  {
   "cell_type": "markdown",
   "id": "48482155",
   "metadata": {},
   "source": [
    "### >> Creating External Objects"
   ]
  },
  {
   "cell_type": "code",
   "execution_count": 8,
   "id": "59d32bb6",
   "metadata": {},
   "outputs": [],
   "source": [
    "create_external_objects(mvi_method_name, directory)"
   ]
  },
  {
   "cell_type": "markdown",
   "id": "9a1f7b1e",
   "metadata": {},
   "source": [
    "## > MVI - Spatial Average"
   ]
  },
  {
   "cell_type": "code",
   "execution_count": 9,
   "id": "4cf91f5e",
   "metadata": {},
   "outputs": [
    {
     "name": "stdout",
     "output_type": "stream",
     "text": [
      "mkdir: cannot create directory ‘MVI_spatialAvg_SIMA_Data’: File exists\r\n"
     ]
    }
   ],
   "source": [
    "mvi_method_name = \"MVI_spatialAvg\"\n",
    "directory = mvi_method_name + \"_SIMA_Data\"\n",
    "\n",
    "!mkdir {directory}"
   ]
  },
  {
   "cell_type": "code",
   "execution_count": 10,
   "id": "0521ecdd",
   "metadata": {},
   "outputs": [],
   "source": [
    "results = mvi_process_tables(directory, mvi_spatialAvg, mvi_method_name, False)"
   ]
  },
  {
   "cell_type": "markdown",
   "id": "f55cec7f",
   "metadata": {},
   "source": [
    "### >> Creating External Objects"
   ]
  },
  {
   "cell_type": "code",
   "execution_count": 11,
   "id": "e03e3837",
   "metadata": {},
   "outputs": [],
   "source": [
    "create_external_objects(mvi_method_name, directory)"
   ]
  },
  {
   "cell_type": "markdown",
   "id": "54c66e7d",
   "metadata": {},
   "source": [
    "## > MVI - Multiple imputation by chained equations (MICE)"
   ]
  },
  {
   "cell_type": "code",
   "execution_count": 50,
   "id": "0392e9af",
   "metadata": {},
   "outputs": [
    {
     "name": "stdout",
     "output_type": "stream",
     "text": [
      "mkdir: cannot create directory ‘MVI_MICE_SIMA_Data’: File exists\r\n"
     ]
    }
   ],
   "source": [
    "mvi_method_name = \"MVI_MICE\"\n",
    "directory = mvi_method_name + \"_SIMA_Data\"\n",
    "\n",
    "!mkdir {directory}"
   ]
  },
  {
   "cell_type": "code",
   "execution_count": 34,
   "id": "db7ba663",
   "metadata": {},
   "outputs": [
    {
     "name": "stderr",
     "output_type": "stream",
     "text": [
      "/home/cesar/anaconda3/envs/hdl_project/lib/python3.7/site-packages/sklearn/impute/_iterative.py:701: ConvergenceWarning: [IterativeImputer] Early stopping criterion not reached.\n",
      "  ConvergenceWarning,\n",
      "/home/cesar/anaconda3/envs/hdl_project/lib/python3.7/site-packages/sklearn/impute/_iterative.py:701: ConvergenceWarning: [IterativeImputer] Early stopping criterion not reached.\n",
      "  ConvergenceWarning,\n"
     ]
    }
   ],
   "source": [
    "results = mvi_process_tables(directory, mvi_MICE, mvi_method_name, True)"
   ]
  },
  {
   "cell_type": "markdown",
   "id": "3effe48b",
   "metadata": {},
   "source": [
    "### >> Creating External Objects"
   ]
  },
  {
   "cell_type": "code",
   "execution_count": 51,
   "id": "07863359",
   "metadata": {},
   "outputs": [],
   "source": [
    "create_external_objects(mvi_method_name, directory)"
   ]
  }
 ],
 "metadata": {
  "kernelspec": {
   "display_name": "Python 3 (ipykernel)",
   "language": "python",
   "name": "python3"
  },
  "language_info": {
   "codemirror_mode": {
    "name": "ipython",
    "version": 3
   },
   "file_extension": ".py",
   "mimetype": "text/x-python",
   "name": "python",
   "nbconvert_exporter": "python",
   "pygments_lexer": "ipython3",
   "version": "3.7.13"
  }
 },
 "nbformat": 4,
 "nbformat_minor": 5
}
