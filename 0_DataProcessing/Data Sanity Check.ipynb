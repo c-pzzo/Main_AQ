{
 "cells": [
  {
   "cell_type": "markdown",
   "id": "3887bda8",
   "metadata": {},
   "source": [
    "# About\n",
    "After uploading the datasets into the MySQL database, some data shapes are expected and must be returned after uploading the data."
   ]
  },
  {
   "cell_type": "markdown",
   "id": "c125d510",
   "metadata": {},
   "source": [
    "# Libraries"
   ]
  },
  {
   "cell_type": "code",
   "execution_count": 1,
   "id": "37446911",
   "metadata": {},
   "outputs": [
    {
     "name": "stdout",
     "output_type": "stream",
     "text": [
      "Connection with MySQL database is ready!\n"
     ]
    }
   ],
   "source": [
    "%run \"../main_global.ipynb\""
   ]
  },
  {
   "cell_type": "markdown",
   "id": "94a35e19",
   "metadata": {},
   "source": [
    "# Parameters"
   ]
  },
  {
   "cell_type": "code",
   "execution_count": 3,
   "id": "31577665",
   "metadata": {},
   "outputs": [],
   "source": [
    "'datetime'\n",
    "features = ['co', 'no', 'no2', 'nox', 'o3', 'pm10', 'pm25', 'so2', 'tout', 'wdr', 'wsr', 'rh', 'sr', 'rainf', 'prs']"
   ]
  },
  {
   "cell_type": "code",
   "execution_count": 4,
   "id": "1eedb2b1",
   "metadata": {},
   "outputs": [],
   "source": [
    "stations = ['SE', 'NE', 'CE', 'NO', 'SO', 'NO2', 'NTE', 'NE2', 'SE2', 'SO2', 'SE3', 'SUR', 'NTE2', 'NE3']"
   ]
  },
  {
   "cell_type": "markdown",
   "id": "b7edb9c1",
   "metadata": {},
   "source": [
    "# Main"
   ]
  },
  {
   "cell_type": "markdown",
   "id": "edbc6da8",
   "metadata": {},
   "source": [
    "## > Same rowcount for every raw dataset\n",
    "Each raw dataset must show that it contains 63936 observations."
   ]
  },
  {
   "cell_type": "code",
   "execution_count": 7,
   "id": "fdd250ac",
   "metadata": {},
   "outputs": [
    {
     "name": "stdout",
     "output_type": "stream",
     "text": [
      "[(63936,)] co\n",
      "[(63936,)] no\n",
      "[(63936,)] no2\n",
      "[(63936,)] nox\n",
      "[(63936,)] o3\n",
      "[(63936,)] pm10\n",
      "[(63936,)] pm25\n",
      "[(63936,)] so2\n",
      "[(63936,)] tout\n",
      "[(63936,)] wdr\n",
      "[(63936,)] wsr\n",
      "[(63936,)] rh\n",
      "[(63936,)] sr\n",
      "[(63936,)] rainf\n",
      "[(63936,)] prs\n"
     ]
    }
   ],
   "source": [
    "for f in features:\n",
    "    print(aux_qdata(\"Select count(*) from sima_{}\".format(f)), f)"
   ]
  },
  {
   "cell_type": "markdown",
   "id": "c8115198",
   "metadata": {},
   "source": [
    "## > Same date range for every table\n",
    "Every raw dataset must show same date range, going:\n",
    "* from: 2015-01-01 00:00:00\n",
    "* to  : 2022-04-17 23:00:00 "
   ]
  },
  {
   "cell_type": "code",
   "execution_count": 5,
   "id": "c5e29e84",
   "metadata": {},
   "outputs": [
    {
     "name": "stdout",
     "output_type": "stream",
     "text": [
      "[(datetime.datetime(2015, 1, 1, 0, 0), datetime.datetime(2022, 4, 17, 23, 0))] co\n",
      "[(datetime.datetime(2015, 1, 1, 0, 0), datetime.datetime(2022, 4, 17, 23, 0))] no\n",
      "[(datetime.datetime(2015, 1, 1, 0, 0), datetime.datetime(2022, 4, 17, 23, 0))] no2\n",
      "[(datetime.datetime(2015, 1, 1, 0, 0), datetime.datetime(2022, 4, 17, 23, 0))] nox\n",
      "[(datetime.datetime(2015, 1, 1, 0, 0), datetime.datetime(2022, 4, 17, 23, 0))] o3\n",
      "[(datetime.datetime(2015, 1, 1, 0, 0), datetime.datetime(2022, 4, 17, 23, 0))] pm10\n",
      "[(datetime.datetime(2015, 1, 1, 0, 0), datetime.datetime(2022, 4, 17, 23, 0))] pm25\n",
      "[(datetime.datetime(2015, 1, 1, 0, 0), datetime.datetime(2022, 4, 17, 23, 0))] so2\n",
      "[(datetime.datetime(2015, 1, 1, 0, 0), datetime.datetime(2022, 4, 17, 23, 0))] tout\n",
      "[(datetime.datetime(2015, 1, 1, 0, 0), datetime.datetime(2022, 4, 17, 23, 0))] wdr\n",
      "[(datetime.datetime(2015, 1, 1, 0, 0), datetime.datetime(2022, 4, 17, 23, 0))] wsr\n",
      "[(datetime.datetime(2015, 1, 1, 0, 0), datetime.datetime(2022, 4, 17, 23, 0))] rh\n",
      "[(datetime.datetime(2015, 1, 1, 0, 0), datetime.datetime(2022, 4, 17, 23, 0))] sr\n",
      "[(datetime.datetime(2015, 1, 1, 0, 0), datetime.datetime(2022, 4, 17, 23, 0))] rainf\n",
      "[(datetime.datetime(2015, 1, 1, 0, 0), datetime.datetime(2022, 4, 17, 23, 0))] prs\n"
     ]
    }
   ],
   "source": [
    "for f in features:\n",
    "    print(aux_qdata(\"Select min(datetime) as min, max(datetime) as max from sima_{}\".format(f)), f, )"
   ]
  },
  {
   "cell_type": "markdown",
   "id": "3fa8c6f3",
   "metadata": {},
   "source": [
    "## > Same rowcount for every View\n",
    "Data is restructured using joins to fit all the information from each monitoring station within a same data object. In this case Views. Each View must show that it contains 63936 observations. This proves that the data has been correctly matched and joined."
   ]
  },
  {
   "cell_type": "code",
   "execution_count": 8,
   "id": "28bc3d63",
   "metadata": {},
   "outputs": [
    {
     "name": "stdout",
     "output_type": "stream",
     "text": [
      "[(63936,)] SE\n",
      "[(63936,)] NE\n",
      "[(63936,)] CE\n",
      "[(63936,)] NO\n",
      "[(63936,)] SO\n",
      "[(63936,)] NO2\n",
      "[(63936,)] NTE\n",
      "[(63936,)] NE2\n",
      "[(63936,)] SE2\n",
      "[(63936,)] SO2\n",
      "[(63936,)] SE3\n",
      "[(63936,)] SUR\n",
      "[(63936,)] NTE2\n",
      "[(63936,)] NE3\n"
     ]
    }
   ],
   "source": [
    "for s in stations:\n",
    "    print(aux_qdata(\"Select count(*) from sima_station_{}\".format(s)), s)    "
   ]
  },
  {
   "cell_type": "markdown",
   "id": "984db22c",
   "metadata": {},
   "source": [
    "# DROP VIEWS command\n",
    "In case that the views don't show the expected values, they must be done and redone. "
   ]
  },
  {
   "cell_type": "code",
   "execution_count": 11,
   "id": "4955a5a8",
   "metadata": {},
   "outputs": [
    {
     "name": "stdout",
     "output_type": "stream",
     "text": [
      "DROP VIEW IF EXISTS HDL_Project.sima_station_SE;\n",
      "DROP VIEW IF EXISTS HDL_Project.sima_station_NE;\n",
      "DROP VIEW IF EXISTS HDL_Project.sima_station_CE;\n",
      "DROP VIEW IF EXISTS HDL_Project.sima_station_NO;\n",
      "DROP VIEW IF EXISTS HDL_Project.sima_station_SO;\n",
      "DROP VIEW IF EXISTS HDL_Project.sima_station_NO2;\n",
      "DROP VIEW IF EXISTS HDL_Project.sima_station_NTE;\n",
      "DROP VIEW IF EXISTS HDL_Project.sima_station_NE2;\n",
      "DROP VIEW IF EXISTS HDL_Project.sima_station_SE2;\n",
      "DROP VIEW IF EXISTS HDL_Project.sima_station_SO2;\n",
      "DROP VIEW IF EXISTS HDL_Project.sima_station_SE3;\n",
      "DROP VIEW IF EXISTS HDL_Project.sima_station_SUR;\n",
      "DROP VIEW IF EXISTS HDL_Project.sima_station_NTE2;\n",
      "DROP VIEW IF EXISTS HDL_Project.sima_station_NE3;\n"
     ]
    }
   ],
   "source": [
    "for s in stations:\n",
    "    print(\"DROP VIEW IF EXISTS {}.{}_sima_station_{};\".format(mysql_database_name, s))"
   ]
  }
 ],
 "metadata": {
  "kernelspec": {
   "display_name": "Python 3 (ipykernel)",
   "language": "python",
   "name": "python3"
  },
  "language_info": {
   "codemirror_mode": {
    "name": "ipython",
    "version": 3
   },
   "file_extension": ".py",
   "mimetype": "text/x-python",
   "name": "python",
   "nbconvert_exporter": "python",
   "pygments_lexer": "ipython3",
   "version": "3.7.13"
  }
 },
 "nbformat": 4,
 "nbformat_minor": 5
}
