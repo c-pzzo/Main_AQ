{
 "cells": [
  {
   "cell_type": "markdown",
   "id": "b52b762c",
   "metadata": {},
   "source": [
    "# Libraries"
   ]
  },
  {
   "cell_type": "code",
   "execution_count": 1,
   "id": "b87b674e",
   "metadata": {},
   "outputs": [
    {
     "name": "stdout",
     "output_type": "stream",
     "text": [
      "Connection with MySQL database is ready!\n"
     ]
    }
   ],
   "source": [
    "%run \"../main_global.ipynb\""
   ]
  },
  {
   "cell_type": "markdown",
   "id": "a6985eed",
   "metadata": {},
   "source": [
    "# UDF"
   ]
  },
  {
   "cell_type": "markdown",
   "id": "c61432c7",
   "metadata": {},
   "source": [
    "# Notebook parameters"
   ]
  },
  {
   "cell_type": "code",
   "execution_count": 2,
   "id": "141c4516",
   "metadata": {},
   "outputs": [],
   "source": [
    "# In case this notebook is to be run for the first time change to True\n",
    "create_new_files = False"
   ]
  },
  {
   "cell_type": "markdown",
   "id": "91106990",
   "metadata": {},
   "source": [
    "# Notebook external objects"
   ]
  },
  {
   "cell_type": "code",
   "execution_count": 3,
   "id": "24063ca7",
   "metadata": {},
   "outputs": [
    {
     "name": "stdout",
     "output_type": "stream",
     "text": [
      "mkdir: cannot create directory ‘Restructured_Raw_SIMA_Data’: File exists\r\n"
     ]
    }
   ],
   "source": [
    "mkdir Restructured_Raw_SIMA_Data"
   ]
  },
  {
   "cell_type": "code",
   "execution_count": 4,
   "id": "036e10fa",
   "metadata": {},
   "outputs": [],
   "source": [
    "%%sh\n",
    "touch raw_sql_tables_structure.sql;\n",
    "touch raw_upload_csv.sh;"
   ]
  },
  {
   "cell_type": "markdown",
   "id": "d402d08e",
   "metadata": {},
   "source": [
    "# Main"
   ]
  },
  {
   "cell_type": "code",
   "execution_count": 5,
   "id": "a2e04374",
   "metadata": {},
   "outputs": [],
   "source": [
    "# Creating Restructured raw data in new CSV files\n",
    "main_restructure = data_restructuring()\n",
    "\n",
    "if create_new_files:\n",
    "    main_restructure.Restructure_Raw_Data() "
   ]
  },
  {
   "cell_type": "code",
   "execution_count": 6,
   "id": "7c773285",
   "metadata": {},
   "outputs": [],
   "source": [
    "directory = \"Restructured_Raw_SIMA_Data\"\n",
    "files_list = list(iglob('./{}/*.csv'.format(directory)))\n",
    "files_list_trim = [x[len(directory)+3:-4] for x in files_list]"
   ]
  },
  {
   "cell_type": "code",
   "execution_count": 7,
   "id": "ecce62d1",
   "metadata": {},
   "outputs": [],
   "source": [
    "# Creating executable .sql script for raw sql tables\n",
    "main_restructure.sql_tables_structures(files_list_trim, directory, \"\")\n",
    "\n",
    "# Creating executable .sh script to upload raw data to mysql database\n",
    "main_restructure.upload_csv_script(files_list_trim, directory, \"\")"
   ]
  }
 ],
 "metadata": {
  "kernelspec": {
   "display_name": "Python 3 (ipykernel)",
   "language": "python",
   "name": "python3"
  },
  "language_info": {
   "codemirror_mode": {
    "name": "ipython",
    "version": 3
   },
   "file_extension": ".py",
   "mimetype": "text/x-python",
   "name": "python",
   "nbconvert_exporter": "python",
   "pygments_lexer": "ipython3",
   "version": "3.8.12"
  }
 },
 "nbformat": 4,
 "nbformat_minor": 5
}
