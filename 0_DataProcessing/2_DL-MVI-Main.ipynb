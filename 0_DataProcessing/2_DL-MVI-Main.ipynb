{
 "cells": [
  {
   "cell_type": "markdown",
   "id": "242f300a",
   "metadata": {},
   "source": [
    "# Libraries"
   ]
  },
  {
   "cell_type": "code",
   "execution_count": 2,
   "id": "1fc230bd",
   "metadata": {},
   "outputs": [
    {
     "name": "stdout",
     "output_type": "stream",
     "text": [
      "Connection with MySQL database is ready!\n"
     ]
    }
   ],
   "source": [
    "%run \"../main_global.ipynb\""
   ]
  },
  {
   "cell_type": "code",
   "execution_count": 5,
   "id": "95d103b9",
   "metadata": {},
   "outputs": [
    {
     "name": "stdout",
     "output_type": "stream",
     "text": [
      "[]\n"
     ]
    }
   ],
   "source": [
    "import os\n",
    "import glob\n",
    "os.environ['TF_CPP_MIN_LOG_LEVEL'] = '2'\n",
    "\n",
    "import tensorflow as tf\n",
    "print(tf.config.list_physical_devices('GPU'))\n",
    "\n",
    "# Data\n",
    "from sklearn.model_selection import train_test_split\n",
    "\n",
    "# DL Model\n",
    "from keras.models import Sequential\n",
    "from tensorflow.keras.layers import Conv1D, Flatten, Dense\n",
    "from keras.layers.convolutional import MaxPooling1D\n",
    "\n",
    "# Optimizer\n",
    "from tensorflow.keras.optimizers import Adam\n",
    "\n",
    "# Plotting\n",
    "import matplotlib.pyplot as plt\n",
    "\n",
    "# Early stopping\n",
    "from tensorflow.keras.callbacks import EarlyStopping\n",
    "\n",
    "# Checkpoint\n",
    "from keras.callbacks import ModelCheckpoint"
   ]
  },
  {
   "cell_type": "code",
   "execution_count": 6,
   "id": "1a864dfe",
   "metadata": {},
   "outputs": [],
   "source": [
    "from numpy import arange, einsum"
   ]
  },
  {
   "cell_type": "markdown",
   "id": "a4e57fee",
   "metadata": {},
   "source": [
    "# UDF"
   ]
  },
  {
   "cell_type": "code",
   "execution_count": 7,
   "id": "2a8c3dd5",
   "metadata": {},
   "outputs": [],
   "source": [
    "class mvi_dl_data(object):\n",
    "    \"\"\"\n",
    "    Sequential processing of time series for the MVI_DL algorithm\n",
    "    \"\"\"\n",
    "    def __init__(self, sqlq, test_size = 0.2, dt_col = \"datetime\"):\n",
    "        \n",
    "        self.sqlq = sqlq\n",
    "        self.dt_col = dt_col \n",
    "        self.test_size = test_size\n",
    "        \n",
    "    def raw_df(self):\n",
    "        df = qdata(self.sqlq)\n",
    "        \n",
    "        # Case-Specific dropping of a monitoring station\n",
    "        df = df.drop(\"NE3\", axis = 1)\n",
    "        \n",
    "        return df\n",
    "    \n",
    "    def indexed_df(self):\n",
    "        \"\"\"\n",
    "        Adding datetime as row index \n",
    "        \"\"\"\n",
    "        # New row index\n",
    "        df = self.raw_df().set_index(self.dt_col)\n",
    "        df.sort_index(inplace=True)\n",
    "        \n",
    "        return df\n",
    "    \n",
    "    def train_test_subtest_df(self):\n",
    "        df = self.indexed_df()\n",
    "        X_train, X_test = train_test_split(df, test_size=self.test_size, shuffle = False)\n",
    "        _, X_subtest = train_test_split(X_test, test_size=self.test_size, shuffle = True)\n",
    "        \n",
    "        X_subtest.sort_index(inplace=True)\n",
    "        \n",
    "        # Delete values in X_subtest\n",
    "        X_test.loc[X_subtest.index, :] = 0\n",
    "        \n",
    "        return X_train, X_test, X_subtest"
   ]
  },
  {
   "cell_type": "markdown",
   "id": "25bea345",
   "metadata": {},
   "source": [
    "\\begin{equation}\n",
    "\\theta^{(l)} = f(f(f(f(g(\\mathbf{X}^{(l-1)}))))) \\label{dl_eq}\n",
    "\\end{equation}\n",
    "\n",
    "Where:\n",
    "\\begin{itemize}\n",
    "    \\item $f$: Fully Connected layer with LeakyReLu non-linearity.\n",
    "    \\item $g$: Fully Connected layer with Flatten layer. \n",
    "\\end{itemize}"
   ]
  },
  {
   "cell_type": "code",
   "execution_count": 8,
   "id": "00528c6c",
   "metadata": {},
   "outputs": [],
   "source": [
    "from tensorflow.keras.models import Sequential\n",
    "from tensorflow.keras.layers import Dense, Flatten"
   ]
  },
  {
   "cell_type": "code",
   "execution_count": 18,
   "id": "908b2f0a",
   "metadata": {},
   "outputs": [],
   "source": [
    "from tensorflow.nn import leaky_relu"
   ]
  },
  {
   "cell_type": "code",
   "execution_count": 21,
   "id": "a05d9c85",
   "metadata": {},
   "outputs": [
    {
     "ename": "TypeError",
     "evalue": "__init__() got multiple values for argument 'activation'",
     "output_type": "error",
     "traceback": [
      "\u001b[0;31m---------------------------------------------------------------------------\u001b[0m",
      "\u001b[0;31mTypeError\u001b[0m                                 Traceback (most recent call last)",
      "\u001b[0;32m/tmp/ipykernel_124931/1947135054.py\u001b[0m in \u001b[0;36m<module>\u001b[0;34m\u001b[0m\n\u001b[1;32m      3\u001b[0m     \u001b[0;32mreturn\u001b[0m \u001b[0mleaky_relu\u001b[0m\u001b[0;34m(\u001b[0m\u001b[0mx\u001b[0m\u001b[0;34m,\u001b[0m \u001b[0malpha\u001b[0m\u001b[0;34m=\u001b[0m\u001b[0;36m0.01\u001b[0m\u001b[0;34m)\u001b[0m\u001b[0;34m\u001b[0m\u001b[0;34m\u001b[0m\u001b[0m\n\u001b[1;32m      4\u001b[0m \u001b[0;34m\u001b[0m\u001b[0m\n\u001b[0;32m----> 5\u001b[0;31m \u001b[0moutput\u001b[0m \u001b[0;34m=\u001b[0m \u001b[0mDense\u001b[0m\u001b[0;34m(\u001b[0m\u001b[0minput\u001b[0m\u001b[0;34m,\u001b[0m \u001b[0mn_units\u001b[0m\u001b[0;34m,\u001b[0m \u001b[0mactivation\u001b[0m\u001b[0;34m=\u001b[0m\u001b[0mmy_leaky_relu\u001b[0m\u001b[0;34m)\u001b[0m\u001b[0;34m\u001b[0m\u001b[0;34m\u001b[0m\u001b[0m\n\u001b[0m",
      "\u001b[0;31mTypeError\u001b[0m: __init__() got multiple values for argument 'activation'"
     ]
    }
   ],
   "source": [
    "n_units= 10\n",
    "\n",
    "def my_leaky_relu(x):\n",
    "    return leaky_relu(x, alpha=0.01)\n",
    "\n",
    "output = Dense(input, n_units, activation=my_leaky_relu)"
   ]
  },
  {
   "cell_type": "code",
   "execution_count": null,
   "id": "f53cd3a9",
   "metadata": {},
   "outputs": [],
   "source": [
    "tf.keras.optimizers.Adam(\n",
    "    learning_rate=0.001,\n",
    "    beta_1=0.9,\n",
    "    beta_2=0.999\n",
    "    name=\"Adam\",\n",
    "    **kwargs\n",
    ")"
   ]
  },
  {
   "cell_type": "code",
   "execution_count": null,
   "id": "f43ca60f",
   "metadata": {},
   "outputs": [],
   "source": [
    "\n",
    "def create_model(activation): \n",
    "    model = keras.models.Sequential()\n",
    "    \n",
    "    \n",
    "    model.add(Bidirectional(LSTM(num_neurons, activation= 'relu' ), input_shape=(n_steps, n_features)))\n",
    "    \n",
    "    # Output layer with one neuron to a model instance (to return one output)\n",
    "    model.add(Dense(1, kernel_initializer='normal',activation='linear'))\n",
    "    \n",
    "    \n",
    "    model.add(Dense(input_shape=[28, 28]))\n",
    "    model.add(Dense())\n",
    "    model.add(Dense())\n",
    "    model.add(Dense())\n",
    "    model.add(Dense())\n",
    "    model.add(Dense())\n",
    "    model.add(Flatten())\n",
    "    \n",
    "    model.add(Dense(300, activation=activation))\n",
    "    for layer in range(49):\n",
    "        model.add(Dense(100, activation=activation))\n",
    "    model.add(Dense(10, activation=\"softmax\"))\n",
    "    \n",
    "    \n",
    "    model.compile(\n",
    "        optimizer='sgd', \n",
    "        loss='sparse_categorical_crossentropy', \n",
    "        metrics=['accuracy']\n",
    "    )\n",
    "    return model"
   ]
  },
  {
   "cell_type": "code",
   "execution_count": 9,
   "id": "c4758270",
   "metadata": {},
   "outputs": [],
   "source": [
    "class mvi_dl_main():\n",
    "    \"\"\"\n",
    "    This class contains the sequential processing of data for the MVI-DL algorithm.\n",
    "\n",
    "    Input:\n",
    "    data: Receives a pandas dataframe to convert into numpy array\n",
    "    \"\"\"\n",
    "    def __init__(self, sqlq):\n",
    "        main_data = mvi_dl_data(sqlq)\n",
    "        data = main_data.indexed_df()\n",
    "        \n",
    "        # Convert pandas object into numpy array\n",
    "        self.X = data.to_numpy()\n",
    "        \n",
    "        # Mask with true values where there are values\n",
    "        self.m = ~(self.X == 0)*1\n",
    "        \n",
    "        # Time horizon vector\n",
    "        halfT = self.X.shape[0] // 2\n",
    "        self.v = arange(-halfT, halfT -1, 1)\n",
    "        \n",
    "    def decomposition_bias(self):\n",
    "        X = self.X\n",
    "        m = self.m\n",
    "\n",
    "        bias_X = X.flatten()\n",
    "        bias_m = m.flatten()\n",
    "\n",
    "        # Vector inner products: $\\Sigma x_i m_i$\n",
    "        bias_num = einsum('i,i', bias_X, bias_m)\n",
    "\n",
    "        # $\\Sigma m_i$\n",
    "        bias_den = bias_m.sum()\n",
    "\n",
    "        # Bias\n",
    "        bias = bias_num / bias_den\n",
    "        \n",
    "        # X^{(bias)} \\equiv X - X^{(1)}\n",
    "        # h^{(1)}\n",
    "        return X - bias, bias"
   ]
  },
  {
   "cell_type": "markdown",
   "id": "b813835c",
   "metadata": {},
   "source": [
    "# UDF"
   ]
  },
  {
   "cell_type": "markdown",
   "id": "6296b5b5",
   "metadata": {},
   "source": [
    "# Main"
   ]
  },
  {
   "cell_type": "code",
   "execution_count": 10,
   "id": "8ac7e872",
   "metadata": {},
   "outputs": [],
   "source": [
    "sqlq = \"Select * from sima_pm25\""
   ]
  },
  {
   "cell_type": "code",
   "execution_count": 11,
   "id": "ce55cf48",
   "metadata": {},
   "outputs": [],
   "source": [
    "main = mvi_dl_main(sqlq)\n",
    "X1, h1 = main.decomposition_bias()"
   ]
  },
  {
   "cell_type": "code",
   "execution_count": 12,
   "id": "3bb82a38",
   "metadata": {},
   "outputs": [
    {
     "data": {
      "text/plain": [
       "21.206843669220145"
      ]
     },
     "execution_count": 12,
     "metadata": {},
     "output_type": "execute_result"
    }
   ],
   "source": [
    "h1"
   ]
  },
  {
   "cell_type": "code",
   "execution_count": 14,
   "id": "2544e48c",
   "metadata": {},
   "outputs": [
    {
     "data": {
      "text/plain": [
       "1.00001"
      ]
     },
     "execution_count": 14,
     "metadata": {},
     "output_type": "execute_result"
    }
   ],
   "source": [
    "1e-5 + 1"
   ]
  }
 ],
 "metadata": {
  "kernelspec": {
   "display_name": "Python 3 (ipykernel)",
   "language": "python",
   "name": "python3"
  },
  "language_info": {
   "codemirror_mode": {
    "name": "ipython",
    "version": 3
   },
   "file_extension": ".py",
   "mimetype": "text/x-python",
   "name": "python",
   "nbconvert_exporter": "python",
   "pygments_lexer": "ipython3",
   "version": "3.7.13"
  }
 },
 "nbformat": 4,
 "nbformat_minor": 5
}
