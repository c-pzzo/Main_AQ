{
 "cells": [
  {
   "cell_type": "markdown",
   "id": "785acd34",
   "metadata": {},
   "source": [
    "# About\n",
    "This notebook contains the test definition for a OHE for the datetime data in the AQ datasets, for later use as metadata in forecasting models.\n",
    "\n",
    "# Introduction\n",
    "From the Time series analysis, different plots were created to visualize the relationship between PM2.5 measurements and different timeframes. After its analysis, it was concluded that there are strong trends for specific timeframes, so, feeding the forecasting models with additional time metadata would be of benefit for their forecasts. Time metadata would be of the categorical kind. To input categorical data into a forecasting model, a common approach is One-Hot Encoding. The problem with this approach is the high dimensionality it adds and the sparse informational environment it creates. For the intended time metadata to input, this would mean an additional 12 for every month and 24 for every hour, making a total of 36 additional columns using this strategy.\n",
    "\n",
    "Sparse data is hard to optimize. It requires specialized sparse optimization strategies that can be avoided if the categorical data were structured differently. There are different encoders available like the TargetEncoder that averages \n",
    "\n",
    "\n",
    "% -----------------------\n",
    "\n",
    "The Bayesian encoders use information from the dependent variable in their encodings. They output one column and can work well with high cardinality data.\n",
    "\n",
    "* Target — use the mean of the DV, must take steps to avoid overfitting/ response leakage. Nominal, ordinal. For classification tasks.\n",
    "* LeaveOneOut — similar to target but avoids contamination. Nominal, ordinal. For classification tasks.\n",
    "* WeightOfEvidence — added in v1.3. Not documented in the docs as of April 11, 2019. The method is explained in this post.\n",
    "* James-Stein — forthcoming in v1.4. Described in the code here.\n",
    "* M-estimator — forthcoming in v1.4. Described in the code here. Simplified target encoder.\n",
    "\n",
    "Category Encoders follow the same API as scikit-learn’s preprocessors. They have some added conveniences, such as the ability to easily add an encoder to a pipeline. Additionally, the encoder returns a pandas DataFrame if a DataFrame is passed to it. Here’s an example of the code with the BinaryEncoder:"
   ]
  },
  {
   "cell_type": "markdown",
   "id": "863448ec",
   "metadata": {},
   "source": [
    "# Libraries"
   ]
  },
  {
   "cell_type": "code",
   "execution_count": 1,
   "id": "8d56eaa9",
   "metadata": {},
   "outputs": [
    {
     "name": "stdout",
     "output_type": "stream",
     "text": [
      "Connection with MySQL database is ready!\n"
     ]
    }
   ],
   "source": [
    "%run \"main_global.ipynb\""
   ]
  },
  {
   "cell_type": "markdown",
   "id": "764a8f6a",
   "metadata": {},
   "source": [
    "# Parameters"
   ]
  },
  {
   "cell_type": "code",
   "execution_count": 2,
   "id": "bdf995ab",
   "metadata": {},
   "outputs": [],
   "source": [
    "station = \"CE\"\n",
    "mvi_method = \"MVI_MICE\"\n",
    "target = \"pm25\""
   ]
  },
  {
   "cell_type": "code",
   "execution_count": 3,
   "id": "ba209f0b",
   "metadata": {},
   "outputs": [],
   "source": [
    "table_name = \"sima_station_{}_{}\".format(mvi_method, station)"
   ]
  },
  {
   "cell_type": "markdown",
   "id": "b485fef3",
   "metadata": {},
   "source": [
    "# UDF"
   ]
  },
  {
   "cell_type": "code",
   "execution_count": null,
   "id": "3aa17e3b",
   "metadata": {},
   "outputs": [],
   "source": []
  },
  {
   "cell_type": "markdown",
   "id": "82024795",
   "metadata": {},
   "source": [
    "# Data"
   ]
  },
  {
   "cell_type": "code",
   "execution_count": 4,
   "id": "38781990",
   "metadata": {},
   "outputs": [],
   "source": [
    "sqlq = \"Select * from {} where year(datetime) in (2020, 2021, 2022)\".format(table_name)\n"
   ]
  },
  {
   "cell_type": "code",
   "execution_count": 50,
   "id": "ce07e173",
   "metadata": {},
   "outputs": [],
   "source": [
    "time_sqlq = \"\"\"Select datetime\n",
    ", monthname(datetime)\n",
    ", hour(datetime)\n",
    ", {}\n",
    "from {}\n",
    "{};\n",
    "\"\"\".format(target, table_name, where_from_sqlq(sqlq))\n",
    "\n",
    "time_data = DataFrame(aux_qdata(time_sqlq), columns = ['datetime', 'month', \"hour\", target])\n",
    "\n",
    "time_data = time_data.drop([\"datetime\"], axis = 1)"
   ]
  },
  {
   "cell_type": "markdown",
   "id": "d97e0486",
   "metadata": {},
   "source": [
    "# Main"
   ]
  },
  {
   "cell_type": "code",
   "execution_count": 53,
   "id": "1951cd2f",
   "metadata": {},
   "outputs": [],
   "source": [
    "X_train = time_data[[\"month\", \"hour\"]]\n",
    "y_train = time_data[\"pm25\"]"
   ]
  },
  {
   "cell_type": "code",
   "execution_count": 38,
   "id": "ffe81776",
   "metadata": {},
   "outputs": [
    {
     "data": {
      "text/plain": [
       "0        94.00\n",
       "1         5.00\n",
       "2         6.00\n",
       "3        18.00\n",
       "4        23.00\n",
       "         ...  \n",
       "20107    25.02\n",
       "20108    15.61\n",
       "20109    39.58\n",
       "20110    48.14\n",
       "20111    25.07\n",
       "Name: pm25, Length: 20112, dtype: float64"
      ]
     },
     "execution_count": 38,
     "metadata": {},
     "output_type": "execute_result"
    }
   ],
   "source": [
    "y_train"
   ]
  },
  {
   "cell_type": "code",
   "execution_count": 55,
   "id": "54ee07fa",
   "metadata": {},
   "outputs": [
    {
     "data": {
      "text/html": [
       "<div>\n",
       "<style scoped>\n",
       "    .dataframe tbody tr th:only-of-type {\n",
       "        vertical-align: middle;\n",
       "    }\n",
       "\n",
       "    .dataframe tbody tr th {\n",
       "        vertical-align: top;\n",
       "    }\n",
       "\n",
       "    .dataframe thead th {\n",
       "        text-align: right;\n",
       "    }\n",
       "</style>\n",
       "<table border=\"1\" class=\"dataframe\">\n",
       "  <thead>\n",
       "    <tr style=\"text-align: right;\">\n",
       "      <th></th>\n",
       "      <th>month</th>\n",
       "      <th>hour</th>\n",
       "    </tr>\n",
       "  </thead>\n",
       "  <tbody>\n",
       "    <tr>\n",
       "      <th>0</th>\n",
       "      <td>29.376760</td>\n",
       "      <td>23.514406</td>\n",
       "    </tr>\n",
       "    <tr>\n",
       "      <th>1</th>\n",
       "      <td>29.416652</td>\n",
       "      <td>20.870730</td>\n",
       "    </tr>\n",
       "    <tr>\n",
       "      <th>2</th>\n",
       "      <td>29.416204</td>\n",
       "      <td>21.247051</td>\n",
       "    </tr>\n",
       "    <tr>\n",
       "      <th>3</th>\n",
       "      <td>29.410825</td>\n",
       "      <td>21.869391</td>\n",
       "    </tr>\n",
       "    <tr>\n",
       "      <th>4</th>\n",
       "      <td>29.408584</td>\n",
       "      <td>22.138843</td>\n",
       "    </tr>\n",
       "    <tr>\n",
       "      <th>...</th>\n",
       "      <td>...</td>\n",
       "      <td>...</td>\n",
       "    </tr>\n",
       "    <tr>\n",
       "      <th>20107</th>\n",
       "      <td>28.613651</td>\n",
       "      <td>21.092539</td>\n",
       "    </tr>\n",
       "    <tr>\n",
       "      <th>20108</th>\n",
       "      <td>28.618746</td>\n",
       "      <td>22.764452</td>\n",
       "    </tr>\n",
       "    <tr>\n",
       "      <th>20109</th>\n",
       "      <td>28.605768</td>\n",
       "      <td>31.134592</td>\n",
       "    </tr>\n",
       "    <tr>\n",
       "      <th>20110</th>\n",
       "      <td>28.601133</td>\n",
       "      <td>21.064916</td>\n",
       "    </tr>\n",
       "    <tr>\n",
       "      <th>20111</th>\n",
       "      <td>28.613624</td>\n",
       "      <td>24.075757</td>\n",
       "    </tr>\n",
       "  </tbody>\n",
       "</table>\n",
       "<p>20112 rows × 2 columns</p>\n",
       "</div>"
      ],
      "text/plain": [
       "           month       hour\n",
       "0      29.376760  23.514406\n",
       "1      29.416652  20.870730\n",
       "2      29.416204  21.247051\n",
       "3      29.410825  21.869391\n",
       "4      29.408584  22.138843\n",
       "...          ...        ...\n",
       "20107  28.613651  21.092539\n",
       "20108  28.618746  22.764452\n",
       "20109  28.605768  31.134592\n",
       "20110  28.601133  21.064916\n",
       "20111  28.613624  24.075757\n",
       "\n",
       "[20112 rows x 2 columns]"
      ]
     },
     "execution_count": 55,
     "metadata": {},
     "output_type": "execute_result"
    }
   ],
   "source": [
    "from category_encoders import WOEEncoder\n",
    "from category_encoders import TargetEncoder\n",
    "from category_encoders import LeaveOneOutEncoder\n",
    "from category_encoders import JamesSteinEncoder\n",
    "#enc = TargetEncoder(cols = [\"month\"])\n",
    "#training_set = enc.fit_transform(X_train, y_train)\n",
    "\n",
    "encoded = LeaveOneOutEncoder(cols = [\"month\", \"hour\"]).fit_transform(X_train, y_train)\n",
    "encoded"
   ]
  },
  {
   "cell_type": "code",
   "execution_count": 33,
   "id": "a05cf5d7",
   "metadata": {},
   "outputs": [
    {
     "data": {
      "text/html": [
       "<div>\n",
       "<style scoped>\n",
       "    .dataframe tbody tr th:only-of-type {\n",
       "        vertical-align: middle;\n",
       "    }\n",
       "\n",
       "    .dataframe tbody tr th {\n",
       "        vertical-align: top;\n",
       "    }\n",
       "\n",
       "    .dataframe thead th {\n",
       "        text-align: right;\n",
       "    }\n",
       "</style>\n",
       "<table border=\"1\" class=\"dataframe\">\n",
       "  <thead>\n",
       "    <tr style=\"text-align: right;\">\n",
       "      <th></th>\n",
       "      <th>color_0</th>\n",
       "      <th>color_1</th>\n",
       "    </tr>\n",
       "  </thead>\n",
       "  <tbody>\n",
       "    <tr>\n",
       "      <th>0</th>\n",
       "      <td>0</td>\n",
       "      <td>1</td>\n",
       "    </tr>\n",
       "    <tr>\n",
       "      <th>1</th>\n",
       "      <td>1</td>\n",
       "      <td>0</td>\n",
       "    </tr>\n",
       "    <tr>\n",
       "      <th>2</th>\n",
       "      <td>0</td>\n",
       "      <td>1</td>\n",
       "    </tr>\n",
       "    <tr>\n",
       "      <th>3</th>\n",
       "      <td>1</td>\n",
       "      <td>1</td>\n",
       "    </tr>\n",
       "  </tbody>\n",
       "</table>\n",
       "</div>"
      ],
      "text/plain": [
       "   color_0  color_1\n",
       "0        0        1\n",
       "1        1        0\n",
       "2        0        1\n",
       "3        1        1"
      ]
     },
     "execution_count": 33,
     "metadata": {},
     "output_type": "execute_result"
    }
   ],
   "source": [
    "import numpy as np\n",
    "import pandas as pd\n",
    "import category_encoders as ce\n",
    "\n",
    "# make some data\n",
    "df = pd.DataFrame({\n",
    " 'color':[\"a\", \"b\", \"a\", \"c\"], \n",
    " 'outcome':[1, 2, 3, 2]})\n",
    "\n",
    "# split into X and y\n",
    "X = df.drop('outcome', axis = 1)\n",
    "y = df.drop('color', axis = 1)\n",
    "\n",
    "# instantiate an encoder - here we use Binary()\n",
    "ce_binary = ce.BinaryEncoder(cols = ['color'])\n",
    "\n",
    "# fit and transform and presto, you've got encoded data\n",
    "ce_binary.fit_transform(X, y)"
   ]
  }
 ],
 "metadata": {
  "kernelspec": {
   "display_name": "Python 3 (ipykernel)",
   "language": "python",
   "name": "python3"
  },
  "language_info": {
   "codemirror_mode": {
    "name": "ipython",
    "version": 3
   },
   "file_extension": ".py",
   "mimetype": "text/x-python",
   "name": "python",
   "nbconvert_exporter": "python",
   "pygments_lexer": "ipython3",
   "version": "3.7.13"
  }
 },
 "nbformat": 4,
 "nbformat_minor": 5
}
